{
 "cells": [
  {
   "cell_type": "markdown",
   "metadata": {},
   "source": [
    "# crawlerの実行"
   ]
  },
  {
   "cell_type": "markdown",
   "metadata": {},
   "source": [
    "## OANDA Foreign eXchange"
   ]
  },
  {
   "cell_type": "code",
   "execution_count": 1,
   "metadata": {},
   "outputs": [
    {
     "name": "stdout",
     "output_type": "stream",
     "text": [
      "/home/takeyukitanaka/Documents/github/donkatsu/jupyter\r\n"
     ]
    }
   ],
   "source": [
    "!pwd"
   ]
  },
  {
   "cell_type": "code",
   "execution_count": 2,
   "metadata": {},
   "outputs": [
    {
     "name": "stdout",
     "output_type": "stream",
     "text": [
      "[2019/11/27 21:44:00] INFO - crawler.py#crawl_daily_all_leg:113: crawl_daily_all_leg().\n",
      "[2019/11/27 21:44:06] INFO - dbaccess.py#insert_ohlcv:66: insert_ohlcv() start. 98\n",
      "[2019/11/27 21:44:06] INFO - dbaccess.py#insert_ohlcv:84: insert_ohlcv() complete. 98\n",
      "[2019/11/27 21:44:06] INFO - crawler.py#crawl_daily:108: download USDJPY,1m,2019-11-24T00:00:00.000000+00:00,2019-11-24T23:59:59.999999+00:00\n",
      "[2019/11/27 21:44:07] INFO - dbaccess.py#insert_ohlcv:66: insert_ohlcv() start. 1300\n",
      "[2019/11/27 21:44:07] INFO - dbaccess.py#insert_ohlcv:84: insert_ohlcv() complete. 1300\n",
      "[2019/11/27 21:44:07] INFO - crawler.py#crawl_daily:108: download USDJPY,1m,2019-11-25T00:00:00.000000+00:00,2019-11-25T23:59:59.999999+00:00\n",
      "[2019/11/27 21:44:08] INFO - dbaccess.py#insert_ohlcv:66: insert_ohlcv() start. 1339\n",
      "[2019/11/27 21:44:09] INFO - dbaccess.py#insert_ohlcv:84: insert_ohlcv() complete. 1339\n",
      "[2019/11/27 21:44:09] INFO - crawler.py#crawl_daily:108: download USDJPY,1m,2019-11-26T00:00:00.000000+00:00,2019-11-26T23:59:59.999999+00:00\n",
      "[2019/11/27 21:44:13] INFO - dbaccess.py#insert_ohlcv:66: insert_ohlcv() start. 696\n",
      "[2019/11/27 21:44:13] INFO - dbaccess.py#insert_ohlcv:84: insert_ohlcv() complete. 696\n",
      "[2019/11/27 21:44:13] INFO - crawler.py#crawl_daily:108: download USDJPY,1m,2019-11-27T00:00:00.000000+00:00,2019-11-27T12:44:00.708367+00:00\n",
      "[2019/11/27 21:44:15] INFO - dbaccess.py#insert_ohlcv:66: insert_ohlcv() start. 24\n",
      "[2019/11/27 21:44:15] INFO - dbaccess.py#insert_ohlcv:84: insert_ohlcv() complete. 24\n",
      "[2019/11/27 21:44:15] INFO - crawler.py#crawl_daily:108: download USDJPY,5m,2019-11-24T00:00:00.000000+00:00,2019-11-24T23:59:59.999999+00:00\n",
      "[2019/11/27 21:44:17] INFO - dbaccess.py#insert_ohlcv:66: insert_ohlcv() start. 288\n",
      "[2019/11/27 21:44:17] INFO - dbaccess.py#insert_ohlcv:84: insert_ohlcv() complete. 288\n",
      "[2019/11/27 21:44:17] INFO - crawler.py#crawl_daily:108: download USDJPY,5m,2019-11-25T00:00:00.000000+00:00,2019-11-25T23:59:59.999999+00:00\n",
      "[2019/11/27 21:44:17] INFO - dbaccess.py#insert_ohlcv:66: insert_ohlcv() start. 287\n",
      "[2019/11/27 21:44:18] INFO - dbaccess.py#insert_ohlcv:84: insert_ohlcv() complete. 287\n",
      "[2019/11/27 21:44:18] INFO - crawler.py#crawl_daily:108: download USDJPY,5m,2019-11-26T00:00:00.000000+00:00,2019-11-26T23:59:59.999999+00:00\n",
      "[2019/11/27 21:44:20] INFO - dbaccess.py#insert_ohlcv:66: insert_ohlcv() start. 153\n",
      "[2019/11/27 21:44:20] INFO - dbaccess.py#insert_ohlcv:84: insert_ohlcv() complete. 153\n",
      "[2019/11/27 21:44:20] INFO - crawler.py#crawl_daily:108: download USDJPY,5m,2019-11-27T00:00:00.000000+00:00,2019-11-27T12:44:13.211224+00:00\n",
      "[2019/11/27 21:44:21] INFO - dbaccess.py#insert_ohlcv:66: insert_ohlcv() start. 8\n",
      "[2019/11/27 21:44:21] INFO - dbaccess.py#insert_ohlcv:84: insert_ohlcv() complete. 8\n",
      "[2019/11/27 21:44:21] INFO - crawler.py#crawl_daily:108: download USDJPY,15m,2019-11-24T00:00:00.000000+00:00,2019-11-24T23:59:59.999999+00:00\n",
      "[2019/11/27 21:44:21] INFO - dbaccess.py#insert_ohlcv:66: insert_ohlcv() start. 96\n",
      "[2019/11/27 21:44:21] INFO - dbaccess.py#insert_ohlcv:84: insert_ohlcv() complete. 96\n",
      "[2019/11/27 21:44:22] INFO - crawler.py#crawl_daily:108: download USDJPY,15m,2019-11-25T00:00:00.000000+00:00,2019-11-25T23:59:59.999999+00:00\n",
      "[2019/11/27 21:44:24] INFO - dbaccess.py#insert_ohlcv:66: insert_ohlcv() start. 96\n",
      "[2019/11/27 21:44:24] INFO - dbaccess.py#insert_ohlcv:84: insert_ohlcv() complete. 96\n",
      "[2019/11/27 21:44:24] INFO - crawler.py#crawl_daily:108: download USDJPY,15m,2019-11-26T00:00:00.000000+00:00,2019-11-26T23:59:59.999999+00:00\n",
      "[2019/11/27 21:44:25] INFO - dbaccess.py#insert_ohlcv:66: insert_ohlcv() start. 51\n",
      "[2019/11/27 21:44:25] INFO - dbaccess.py#insert_ohlcv:84: insert_ohlcv() complete. 51\n",
      "[2019/11/27 21:44:25] INFO - crawler.py#crawl_daily:108: download USDJPY,15m,2019-11-27T00:00:00.000000+00:00,2019-11-27T12:44:20.348611+00:00\n",
      "[2019/11/27 21:44:27] INFO - dbaccess.py#insert_ohlcv:66: insert_ohlcv() start. 4\n",
      "[2019/11/27 21:44:27] INFO - dbaccess.py#insert_ohlcv:84: insert_ohlcv() complete. 4\n",
      "[2019/11/27 21:44:27] INFO - crawler.py#crawl_daily:108: download USDJPY,30m,2019-11-24T00:00:00.000000+00:00,2019-11-24T23:59:59.999999+00:00\n",
      "[2019/11/27 21:44:27] INFO - dbaccess.py#insert_ohlcv:66: insert_ohlcv() start. 48\n",
      "[2019/11/27 21:44:27] INFO - dbaccess.py#insert_ohlcv:84: insert_ohlcv() complete. 48\n",
      "[2019/11/27 21:44:27] INFO - crawler.py#crawl_daily:108: download USDJPY,30m,2019-11-25T00:00:00.000000+00:00,2019-11-25T23:59:59.999999+00:00\n",
      "[2019/11/27 21:44:29] INFO - dbaccess.py#insert_ohlcv:66: insert_ohlcv() start. 48\n",
      "[2019/11/27 21:44:29] INFO - dbaccess.py#insert_ohlcv:84: insert_ohlcv() complete. 48\n",
      "[2019/11/27 21:44:29] INFO - crawler.py#crawl_daily:108: download USDJPY,30m,2019-11-26T00:00:00.000000+00:00,2019-11-26T23:59:59.999999+00:00\n",
      "[2019/11/27 21:44:30] INFO - dbaccess.py#insert_ohlcv:66: insert_ohlcv() start. 26\n",
      "[2019/11/27 21:44:30] INFO - dbaccess.py#insert_ohlcv:84: insert_ohlcv() complete. 26\n",
      "[2019/11/27 21:44:30] INFO - crawler.py#crawl_daily:108: download USDJPY,30m,2019-11-27T00:00:00.000000+00:00,2019-11-27T12:44:25.159723+00:00\n",
      "[2019/11/27 21:44:32] INFO - dbaccess.py#insert_ohlcv:66: insert_ohlcv() start. 2\n",
      "[2019/11/27 21:44:32] INFO - dbaccess.py#insert_ohlcv:84: insert_ohlcv() complete. 2\n",
      "[2019/11/27 21:44:32] INFO - crawler.py#crawl_daily:108: download USDJPY,1h,2019-11-24T00:00:00.000000+00:00,2019-11-24T23:59:59.999999+00:00\n",
      "[2019/11/27 21:44:33] INFO - dbaccess.py#insert_ohlcv:66: insert_ohlcv() start. 24\n",
      "[2019/11/27 21:44:33] INFO - dbaccess.py#insert_ohlcv:84: insert_ohlcv() complete. 24\n",
      "[2019/11/27 21:44:33] INFO - crawler.py#crawl_daily:108: download USDJPY,1h,2019-11-25T00:00:00.000000+00:00,2019-11-25T23:59:59.999999+00:00\n",
      "[2019/11/27 21:44:43] INFO - dbaccess.py#insert_ohlcv:66: insert_ohlcv() start. 24\n",
      "[2019/11/27 21:44:43] INFO - dbaccess.py#insert_ohlcv:84: insert_ohlcv() complete. 24\n",
      "[2019/11/27 21:44:43] INFO - crawler.py#crawl_daily:108: download USDJPY,1h,2019-11-26T00:00:00.000000+00:00,2019-11-26T23:59:59.999999+00:00\n",
      "[2019/11/27 21:44:44] INFO - dbaccess.py#insert_ohlcv:66: insert_ohlcv() start. 13\n",
      "[2019/11/27 21:44:44] INFO - dbaccess.py#insert_ohlcv:84: insert_ohlcv() complete. 13\n",
      "[2019/11/27 21:44:44] INFO - crawler.py#crawl_daily:108: download USDJPY,1h,2019-11-27T00:00:00.000000+00:00,2019-11-27T12:44:30.833887+00:00\n",
      "[2019/11/27 21:44:45] INFO - dbaccess.py#insert_ohlcv:66: insert_ohlcv() start. 1\n",
      "[2019/11/27 21:44:45] INFO - dbaccess.py#insert_ohlcv:84: insert_ohlcv() complete. 1\n",
      "[2019/11/27 21:44:45] INFO - crawler.py#crawl_daily:108: download USDJPY,4h,2019-11-24T00:00:00.000000+00:00,2019-11-24T23:59:59.999999+00:00\n",
      "[2019/11/27 21:44:46] INFO - dbaccess.py#insert_ohlcv:66: insert_ohlcv() start. 7\n",
      "[2019/11/27 21:44:46] INFO - dbaccess.py#insert_ohlcv:84: insert_ohlcv() complete. 7\n",
      "[2019/11/27 21:44:46] INFO - crawler.py#crawl_daily:108: download USDJPY,4h,2019-11-25T00:00:00.000000+00:00,2019-11-25T23:59:59.999999+00:00\n",
      "[2019/11/27 21:44:49] INFO - dbaccess.py#insert_ohlcv:66: insert_ohlcv() start. 7\n",
      "[2019/11/27 21:44:49] INFO - dbaccess.py#insert_ohlcv:84: insert_ohlcv() complete. 7\n",
      "[2019/11/27 21:44:49] INFO - crawler.py#crawl_daily:108: download USDJPY,4h,2019-11-26T00:00:00.000000+00:00,2019-11-26T23:59:59.999999+00:00\n",
      "[2019/11/27 21:44:50] INFO - dbaccess.py#insert_ohlcv:66: insert_ohlcv() start. 4\n",
      "[2019/11/27 21:44:50] INFO - dbaccess.py#insert_ohlcv:84: insert_ohlcv() complete. 4\n",
      "[2019/11/27 21:44:50] INFO - crawler.py#crawl_daily:108: download USDJPY,4h,2019-11-27T00:00:00.000000+00:00,2019-11-27T12:44:44.411966+00:00\n",
      "[2019/11/27 21:44:51] INFO - dbaccess.py#insert_ohlcv:66: insert_ohlcv() start. 1\n",
      "[2019/11/27 21:44:51] INFO - dbaccess.py#insert_ohlcv:84: insert_ohlcv() complete. 1\n",
      "[2019/11/27 21:44:51] INFO - crawler.py#crawl_daily:108: download USDJPY,6h,2019-11-24T00:00:00.000000+00:00,2019-11-24T23:59:59.999999+00:00\n",
      "[2019/11/27 21:45:01] INFO - dbaccess.py#insert_ohlcv:66: insert_ohlcv() start. 5\n",
      "[2019/11/27 21:45:01] INFO - dbaccess.py#insert_ohlcv:84: insert_ohlcv() complete. 5\n",
      "[2019/11/27 21:45:01] INFO - crawler.py#crawl_daily:108: download USDJPY,6h,2019-11-25T00:00:00.000000+00:00,2019-11-25T23:59:59.999999+00:00\n",
      "[2019/11/27 21:45:03] INFO - dbaccess.py#insert_ohlcv:66: insert_ohlcv() start. 5\n",
      "[2019/11/27 21:45:03] INFO - dbaccess.py#insert_ohlcv:84: insert_ohlcv() complete. 5\n",
      "[2019/11/27 21:45:03] INFO - crawler.py#crawl_daily:108: download USDJPY,6h,2019-11-26T00:00:00.000000+00:00,2019-11-26T23:59:59.999999+00:00\n"
     ]
    },
    {
     "name": "stdout",
     "output_type": "stream",
     "text": [
      "[2019/11/27 21:45:07] INFO - dbaccess.py#insert_ohlcv:66: insert_ohlcv() start. 3\n",
      "[2019/11/27 21:45:07] INFO - dbaccess.py#insert_ohlcv:84: insert_ohlcv() complete. 3\n",
      "[2019/11/27 21:45:07] INFO - crawler.py#crawl_daily:108: download USDJPY,6h,2019-11-27T00:00:00.000000+00:00,2019-11-27T12:44:50.878652+00:00\n",
      "[2019/11/27 21:45:08] INFO - dbaccess.py#insert_ohlcv:66: insert_ohlcv() start. 1\n",
      "[2019/11/27 21:45:08] INFO - dbaccess.py#insert_ohlcv:84: insert_ohlcv() complete. 1\n",
      "[2019/11/27 21:45:08] INFO - crawler.py#crawl_daily:108: download USDJPY,8h,2019-11-24T00:00:00.000000+00:00,2019-11-24T23:59:59.999999+00:00\n",
      "[2019/11/27 21:45:11] INFO - dbaccess.py#insert_ohlcv:66: insert_ohlcv() start. 4\n",
      "[2019/11/27 21:45:11] INFO - dbaccess.py#insert_ohlcv:84: insert_ohlcv() complete. 4\n",
      "[2019/11/27 21:45:11] INFO - crawler.py#crawl_daily:108: download USDJPY,8h,2019-11-25T00:00:00.000000+00:00,2019-11-25T23:59:59.999999+00:00\n",
      "[2019/11/27 21:45:12] INFO - dbaccess.py#insert_ohlcv:66: insert_ohlcv() start. 4\n",
      "[2019/11/27 21:45:12] INFO - dbaccess.py#insert_ohlcv:84: insert_ohlcv() complete. 4\n",
      "[2019/11/27 21:45:12] INFO - crawler.py#crawl_daily:108: download USDJPY,8h,2019-11-26T00:00:00.000000+00:00,2019-11-26T23:59:59.999999+00:00\n",
      "[2019/11/27 21:45:13] INFO - dbaccess.py#insert_ohlcv:66: insert_ohlcv() start. 2\n",
      "[2019/11/27 21:45:13] INFO - dbaccess.py#insert_ohlcv:84: insert_ohlcv() complete. 2\n",
      "[2019/11/27 21:45:13] INFO - crawler.py#crawl_daily:108: download USDJPY,8h,2019-11-27T00:00:00.000000+00:00,2019-11-27T12:45:07.874112+00:00\n",
      "[2019/11/27 21:45:15] INFO - dbaccess.py#insert_ohlcv:66: insert_ohlcv() start. 1\n",
      "[2019/11/27 21:45:15] INFO - dbaccess.py#insert_ohlcv:84: insert_ohlcv() complete. 1\n",
      "[2019/11/27 21:45:15] INFO - crawler.py#crawl_daily:108: download USDJPY,12h,2019-11-24T00:00:00.000000+00:00,2019-11-24T23:59:59.999999+00:00\n",
      "[2019/11/27 21:45:16] INFO - dbaccess.py#insert_ohlcv:66: insert_ohlcv() start. 3\n",
      "[2019/11/27 21:45:16] INFO - dbaccess.py#insert_ohlcv:84: insert_ohlcv() complete. 3\n",
      "[2019/11/27 21:45:16] INFO - crawler.py#crawl_daily:108: download USDJPY,12h,2019-11-25T00:00:00.000000+00:00,2019-11-25T23:59:59.999999+00:00\n",
      "[2019/11/27 21:45:18] INFO - dbaccess.py#insert_ohlcv:66: insert_ohlcv() start. 3\n",
      "[2019/11/27 21:45:18] INFO - dbaccess.py#insert_ohlcv:84: insert_ohlcv() complete. 3\n",
      "[2019/11/27 21:45:18] INFO - crawler.py#crawl_daily:108: download USDJPY,12h,2019-11-26T00:00:00.000000+00:00,2019-11-26T23:59:59.999999+00:00\n",
      "[2019/11/27 21:45:20] INFO - dbaccess.py#insert_ohlcv:66: insert_ohlcv() start. 2\n",
      "[2019/11/27 21:45:20] INFO - dbaccess.py#insert_ohlcv:84: insert_ohlcv() complete. 2\n",
      "[2019/11/27 21:45:20] INFO - crawler.py#crawl_daily:108: download USDJPY,12h,2019-11-27T00:00:00.000000+00:00,2019-11-27T12:45:13.648112+00:00\n",
      "[2019/11/27 21:45:22] INFO - dbaccess.py#insert_ohlcv:66: insert_ohlcv() start. 1\n",
      "[2019/11/27 21:45:22] INFO - dbaccess.py#insert_ohlcv:84: insert_ohlcv() complete. 1\n",
      "[2019/11/27 21:45:22] INFO - crawler.py#crawl_daily:108: download USDJPY,1d,2019-11-24T00:00:00.000000+00:00,2019-11-24T23:59:59.999999+00:00\n",
      "[2019/11/27 21:45:23] INFO - dbaccess.py#insert_ohlcv:66: insert_ohlcv() start. 2\n",
      "[2019/11/27 21:45:23] INFO - dbaccess.py#insert_ohlcv:84: insert_ohlcv() complete. 2\n",
      "[2019/11/27 21:45:23] INFO - crawler.py#crawl_daily:108: download USDJPY,1d,2019-11-25T00:00:00.000000+00:00,2019-11-25T23:59:59.999999+00:00\n",
      "[2019/11/27 21:45:24] INFO - dbaccess.py#insert_ohlcv:66: insert_ohlcv() start. 2\n",
      "[2019/11/27 21:45:24] INFO - dbaccess.py#insert_ohlcv:84: insert_ohlcv() complete. 2\n",
      "[2019/11/27 21:45:24] INFO - crawler.py#crawl_daily:108: download USDJPY,1d,2019-11-26T00:00:00.000000+00:00,2019-11-26T23:59:59.999999+00:00\n",
      "[2019/11/27 21:45:27] INFO - dbaccess.py#insert_ohlcv:66: insert_ohlcv() start. 1\n",
      "[2019/11/27 21:45:27] INFO - dbaccess.py#insert_ohlcv:84: insert_ohlcv() complete. 1\n",
      "[2019/11/27 21:45:27] INFO - crawler.py#crawl_daily:108: download USDJPY,1d,2019-11-27T00:00:00.000000+00:00,2019-11-27T12:45:20.856356+00:00\n",
      "[2019/11/27 21:45:29] INFO - dbaccess.py#insert_ohlcv:66: insert_ohlcv() start. 100\n",
      "[2019/11/27 21:45:29] INFO - dbaccess.py#insert_ohlcv:84: insert_ohlcv() complete. 100\n",
      "[2019/11/27 21:45:29] INFO - crawler.py#crawl_daily:108: download EURJPY,1m,2019-11-24T00:00:00.000000+00:00,2019-11-24T23:59:59.999999+00:00\n",
      "[2019/11/27 21:45:34] INFO - dbaccess.py#insert_ohlcv:66: insert_ohlcv() start. 1317\n",
      "[2019/11/27 21:45:34] INFO - dbaccess.py#insert_ohlcv:84: insert_ohlcv() complete. 1317\n",
      "[2019/11/27 21:45:34] INFO - crawler.py#crawl_daily:108: download EURJPY,1m,2019-11-25T00:00:00.000000+00:00,2019-11-25T23:59:59.999999+00:00\n",
      "[2019/11/27 21:45:41] INFO - dbaccess.py#insert_ohlcv:66: insert_ohlcv() start. 1321\n",
      "[2019/11/27 21:45:42] INFO - dbaccess.py#insert_ohlcv:84: insert_ohlcv() complete. 1321\n",
      "[2019/11/27 21:45:42] INFO - crawler.py#crawl_daily:108: download EURJPY,1m,2019-11-26T00:00:00.000000+00:00,2019-11-26T23:59:59.999999+00:00\n",
      "[2019/11/27 21:45:44] INFO - dbaccess.py#insert_ohlcv:66: insert_ohlcv() start. 721\n",
      "[2019/11/27 21:45:44] INFO - dbaccess.py#insert_ohlcv:84: insert_ohlcv() complete. 721\n",
      "[2019/11/27 21:45:44] INFO - crawler.py#crawl_daily:108: download EURJPY,1m,2019-11-27T00:00:00.000000+00:00,2019-11-27T12:45:27.871924+00:00\n",
      "[2019/11/27 21:45:46] INFO - dbaccess.py#insert_ohlcv:66: insert_ohlcv() start. 24\n",
      "[2019/11/27 21:45:46] INFO - dbaccess.py#insert_ohlcv:84: insert_ohlcv() complete. 24\n",
      "[2019/11/27 21:45:46] INFO - crawler.py#crawl_daily:108: download EURJPY,5m,2019-11-24T00:00:00.000000+00:00,2019-11-24T23:59:59.999999+00:00\n",
      "[2019/11/27 21:45:51] INFO - dbaccess.py#insert_ohlcv:66: insert_ohlcv() start. 287\n",
      "[2019/11/27 21:45:51] INFO - dbaccess.py#insert_ohlcv:84: insert_ohlcv() complete. 287\n",
      "[2019/11/27 21:45:51] INFO - crawler.py#crawl_daily:108: download EURJPY,5m,2019-11-25T00:00:00.000000+00:00,2019-11-25T23:59:59.999999+00:00\n",
      "[2019/11/27 21:45:53] INFO - dbaccess.py#insert_ohlcv:66: insert_ohlcv() start. 287\n",
      "[2019/11/27 21:45:53] INFO - dbaccess.py#insert_ohlcv:84: insert_ohlcv() complete. 287\n",
      "[2019/11/27 21:45:53] INFO - crawler.py#crawl_daily:108: download EURJPY,5m,2019-11-26T00:00:00.000000+00:00,2019-11-26T23:59:59.999999+00:00\n",
      "[2019/11/27 21:45:54] INFO - dbaccess.py#insert_ohlcv:66: insert_ohlcv() start. 154\n",
      "[2019/11/27 21:45:54] INFO - dbaccess.py#insert_ohlcv:84: insert_ohlcv() complete. 154\n",
      "[2019/11/27 21:45:54] INFO - crawler.py#crawl_daily:108: download EURJPY,5m,2019-11-27T00:00:00.000000+00:00,2019-11-27T12:45:44.906755+00:00\n",
      "[2019/11/27 21:45:54] INFO - dbaccess.py#insert_ohlcv:66: insert_ohlcv() start. 8\n",
      "[2019/11/27 21:45:55] INFO - dbaccess.py#insert_ohlcv:84: insert_ohlcv() complete. 8\n",
      "[2019/11/27 21:45:55] INFO - crawler.py#crawl_daily:108: download EURJPY,15m,2019-11-24T00:00:00.000000+00:00,2019-11-24T23:59:59.999999+00:00\n",
      "[2019/11/27 21:45:55] INFO - dbaccess.py#insert_ohlcv:66: insert_ohlcv() start. 96\n",
      "[2019/11/27 21:45:55] INFO - dbaccess.py#insert_ohlcv:84: insert_ohlcv() complete. 96\n",
      "[2019/11/27 21:45:55] INFO - crawler.py#crawl_daily:108: download EURJPY,15m,2019-11-25T00:00:00.000000+00:00,2019-11-25T23:59:59.999999+00:00\n",
      "[2019/11/27 21:45:56] INFO - dbaccess.py#insert_ohlcv:66: insert_ohlcv() start. 96\n",
      "[2019/11/27 21:45:56] INFO - dbaccess.py#insert_ohlcv:84: insert_ohlcv() complete. 96\n",
      "[2019/11/27 21:45:56] INFO - crawler.py#crawl_daily:108: download EURJPY,15m,2019-11-26T00:00:00.000000+00:00,2019-11-26T23:59:59.999999+00:00\n",
      "[2019/11/27 21:45:57] INFO - dbaccess.py#insert_ohlcv:66: insert_ohlcv() start. 52\n",
      "[2019/11/27 21:45:57] INFO - dbaccess.py#insert_ohlcv:84: insert_ohlcv() complete. 52\n",
      "[2019/11/27 21:45:57] INFO - crawler.py#crawl_daily:108: download EURJPY,15m,2019-11-27T00:00:00.000000+00:00,2019-11-27T12:45:54.147536+00:00\n",
      "[2019/11/27 21:45:58] INFO - dbaccess.py#insert_ohlcv:66: insert_ohlcv() start. 4\n",
      "[2019/11/27 21:45:58] INFO - dbaccess.py#insert_ohlcv:84: insert_ohlcv() complete. 4\n",
      "[2019/11/27 21:45:58] INFO - crawler.py#crawl_daily:108: download EURJPY,30m,2019-11-24T00:00:00.000000+00:00,2019-11-24T23:59:59.999999+00:00\n",
      "[2019/11/27 21:45:59] INFO - dbaccess.py#insert_ohlcv:66: insert_ohlcv() start. 48\n",
      "[2019/11/27 21:45:59] INFO - dbaccess.py#insert_ohlcv:84: insert_ohlcv() complete. 48\n",
      "[2019/11/27 21:45:59] INFO - crawler.py#crawl_daily:108: download EURJPY,30m,2019-11-25T00:00:00.000000+00:00,2019-11-25T23:59:59.999999+00:00\n"
     ]
    },
    {
     "name": "stdout",
     "output_type": "stream",
     "text": [
      "[2019/11/27 21:46:01] INFO - dbaccess.py#insert_ohlcv:66: insert_ohlcv() start. 48\n",
      "[2019/11/27 21:46:01] INFO - dbaccess.py#insert_ohlcv:84: insert_ohlcv() complete. 48\n",
      "[2019/11/27 21:46:01] INFO - crawler.py#crawl_daily:108: download EURJPY,30m,2019-11-26T00:00:00.000000+00:00,2019-11-26T23:59:59.999999+00:00\n",
      "[2019/11/27 21:46:02] INFO - dbaccess.py#insert_ohlcv:66: insert_ohlcv() start. 26\n",
      "[2019/11/27 21:46:02] INFO - dbaccess.py#insert_ohlcv:84: insert_ohlcv() complete. 26\n",
      "[2019/11/27 21:46:02] INFO - crawler.py#crawl_daily:108: download EURJPY,30m,2019-11-27T00:00:00.000000+00:00,2019-11-27T12:45:57.569698+00:00\n",
      "[2019/11/27 21:46:04] INFO - dbaccess.py#insert_ohlcv:66: insert_ohlcv() start. 2\n",
      "[2019/11/27 21:46:04] INFO - dbaccess.py#insert_ohlcv:84: insert_ohlcv() complete. 2\n",
      "[2019/11/27 21:46:04] INFO - crawler.py#crawl_daily:108: download EURJPY,1h,2019-11-24T00:00:00.000000+00:00,2019-11-24T23:59:59.999999+00:00\n",
      "[2019/11/27 21:46:05] INFO - dbaccess.py#insert_ohlcv:66: insert_ohlcv() start. 24\n",
      "[2019/11/27 21:46:05] INFO - dbaccess.py#insert_ohlcv:84: insert_ohlcv() complete. 24\n",
      "[2019/11/27 21:46:05] INFO - crawler.py#crawl_daily:108: download EURJPY,1h,2019-11-25T00:00:00.000000+00:00,2019-11-25T23:59:59.999999+00:00\n",
      "[2019/11/27 21:46:05] INFO - dbaccess.py#insert_ohlcv:66: insert_ohlcv() start. 24\n",
      "[2019/11/27 21:46:05] INFO - dbaccess.py#insert_ohlcv:84: insert_ohlcv() complete. 24\n",
      "[2019/11/27 21:46:05] INFO - crawler.py#crawl_daily:108: download EURJPY,1h,2019-11-26T00:00:00.000000+00:00,2019-11-26T23:59:59.999999+00:00\n",
      "[2019/11/27 21:46:11] INFO - dbaccess.py#insert_ohlcv:66: insert_ohlcv() start. 13\n",
      "[2019/11/27 21:46:11] INFO - dbaccess.py#insert_ohlcv:84: insert_ohlcv() complete. 13\n",
      "[2019/11/27 21:46:11] INFO - crawler.py#crawl_daily:108: download EURJPY,1h,2019-11-27T00:00:00.000000+00:00,2019-11-27T12:46:02.119631+00:00\n",
      "[2019/11/27 21:46:11] INFO - dbaccess.py#insert_ohlcv:66: insert_ohlcv() start. 1\n",
      "[2019/11/27 21:46:11] INFO - dbaccess.py#insert_ohlcv:84: insert_ohlcv() complete. 1\n",
      "[2019/11/27 21:46:11] INFO - crawler.py#crawl_daily:108: download EURJPY,4h,2019-11-24T00:00:00.000000+00:00,2019-11-24T23:59:59.999999+00:00\n",
      "[2019/11/27 21:46:12] INFO - dbaccess.py#insert_ohlcv:66: insert_ohlcv() start. 7\n",
      "[2019/11/27 21:46:12] INFO - dbaccess.py#insert_ohlcv:84: insert_ohlcv() complete. 7\n",
      "[2019/11/27 21:46:12] INFO - crawler.py#crawl_daily:108: download EURJPY,4h,2019-11-25T00:00:00.000000+00:00,2019-11-25T23:59:59.999999+00:00\n",
      "[2019/11/27 21:46:15] INFO - dbaccess.py#insert_ohlcv:66: insert_ohlcv() start. 7\n",
      "[2019/11/27 21:46:15] INFO - dbaccess.py#insert_ohlcv:84: insert_ohlcv() complete. 7\n",
      "[2019/11/27 21:46:15] INFO - crawler.py#crawl_daily:108: download EURJPY,4h,2019-11-26T00:00:00.000000+00:00,2019-11-26T23:59:59.999999+00:00\n",
      "[2019/11/27 21:46:20] INFO - dbaccess.py#insert_ohlcv:66: insert_ohlcv() start. 4\n",
      "[2019/11/27 21:46:20] INFO - dbaccess.py#insert_ohlcv:84: insert_ohlcv() complete. 4\n",
      "[2019/11/27 21:46:20] INFO - crawler.py#crawl_daily:108: download EURJPY,4h,2019-11-27T00:00:00.000000+00:00,2019-11-27T12:46:11.073242+00:00\n",
      "[2019/11/27 21:46:22] INFO - dbaccess.py#insert_ohlcv:66: insert_ohlcv() start. 1\n",
      "[2019/11/27 21:46:22] INFO - dbaccess.py#insert_ohlcv:84: insert_ohlcv() complete. 1\n",
      "[2019/11/27 21:46:22] INFO - crawler.py#crawl_daily:108: download EURJPY,6h,2019-11-24T00:00:00.000000+00:00,2019-11-24T23:59:59.999999+00:00\n",
      "[2019/11/27 21:46:24] INFO - dbaccess.py#insert_ohlcv:66: insert_ohlcv() start. 5\n",
      "[2019/11/27 21:46:24] INFO - dbaccess.py#insert_ohlcv:84: insert_ohlcv() complete. 5\n",
      "[2019/11/27 21:46:24] INFO - crawler.py#crawl_daily:108: download EURJPY,6h,2019-11-25T00:00:00.000000+00:00,2019-11-25T23:59:59.999999+00:00\n",
      "[2019/11/27 21:46:25] INFO - dbaccess.py#insert_ohlcv:66: insert_ohlcv() start. 5\n",
      "[2019/11/27 21:46:25] INFO - dbaccess.py#insert_ohlcv:84: insert_ohlcv() complete. 5\n",
      "[2019/11/27 21:46:25] INFO - crawler.py#crawl_daily:108: download EURJPY,6h,2019-11-26T00:00:00.000000+00:00,2019-11-26T23:59:59.999999+00:00\n",
      "[2019/11/27 21:46:25] INFO - dbaccess.py#insert_ohlcv:66: insert_ohlcv() start. 3\n",
      "[2019/11/27 21:46:25] INFO - dbaccess.py#insert_ohlcv:84: insert_ohlcv() complete. 3\n",
      "[2019/11/27 21:46:25] INFO - crawler.py#crawl_daily:108: download EURJPY,6h,2019-11-27T00:00:00.000000+00:00,2019-11-27T12:46:20.053543+00:00\n",
      "[2019/11/27 21:46:26] INFO - dbaccess.py#insert_ohlcv:66: insert_ohlcv() start. 1\n",
      "[2019/11/27 21:46:26] INFO - dbaccess.py#insert_ohlcv:84: insert_ohlcv() complete. 1\n",
      "[2019/11/27 21:46:26] INFO - crawler.py#crawl_daily:108: download EURJPY,8h,2019-11-24T00:00:00.000000+00:00,2019-11-24T23:59:59.999999+00:00\n",
      "[2019/11/27 21:46:27] INFO - dbaccess.py#insert_ohlcv:66: insert_ohlcv() start. 4\n",
      "[2019/11/27 21:46:27] INFO - dbaccess.py#insert_ohlcv:84: insert_ohlcv() complete. 4\n",
      "[2019/11/27 21:46:27] INFO - crawler.py#crawl_daily:108: download EURJPY,8h,2019-11-25T00:00:00.000000+00:00,2019-11-25T23:59:59.999999+00:00\n",
      "[2019/11/27 21:46:28] INFO - dbaccess.py#insert_ohlcv:66: insert_ohlcv() start. 4\n",
      "[2019/11/27 21:46:28] INFO - dbaccess.py#insert_ohlcv:84: insert_ohlcv() complete. 4\n",
      "[2019/11/27 21:46:28] INFO - crawler.py#crawl_daily:108: download EURJPY,8h,2019-11-26T00:00:00.000000+00:00,2019-11-26T23:59:59.999999+00:00\n",
      "[2019/11/27 21:46:30] INFO - dbaccess.py#insert_ohlcv:66: insert_ohlcv() start. 2\n",
      "[2019/11/27 21:46:30] INFO - dbaccess.py#insert_ohlcv:84: insert_ohlcv() complete. 2\n",
      "[2019/11/27 21:46:30] INFO - crawler.py#crawl_daily:108: download EURJPY,8h,2019-11-27T00:00:00.000000+00:00,2019-11-27T12:46:25.859043+00:00\n",
      "[2019/11/27 21:46:32] INFO - dbaccess.py#insert_ohlcv:66: insert_ohlcv() start. 1\n",
      "[2019/11/27 21:46:32] INFO - dbaccess.py#insert_ohlcv:84: insert_ohlcv() complete. 1\n",
      "[2019/11/27 21:46:32] INFO - crawler.py#crawl_daily:108: download EURJPY,12h,2019-11-24T00:00:00.000000+00:00,2019-11-24T23:59:59.999999+00:00\n",
      "[2019/11/27 21:46:34] INFO - dbaccess.py#insert_ohlcv:66: insert_ohlcv() start. 3\n",
      "[2019/11/27 21:46:34] INFO - dbaccess.py#insert_ohlcv:84: insert_ohlcv() complete. 3\n",
      "[2019/11/27 21:46:34] INFO - crawler.py#crawl_daily:108: download EURJPY,12h,2019-11-25T00:00:00.000000+00:00,2019-11-25T23:59:59.999999+00:00\n",
      "[2019/11/27 21:46:35] INFO - dbaccess.py#insert_ohlcv:66: insert_ohlcv() start. 3\n",
      "[2019/11/27 21:46:35] INFO - dbaccess.py#insert_ohlcv:84: insert_ohlcv() complete. 3\n",
      "[2019/11/27 21:46:35] INFO - crawler.py#crawl_daily:108: download EURJPY,12h,2019-11-26T00:00:00.000000+00:00,2019-11-26T23:59:59.999999+00:00\n",
      "[2019/11/27 21:46:37] INFO - dbaccess.py#insert_ohlcv:66: insert_ohlcv() start. 2\n",
      "[2019/11/27 21:46:37] INFO - dbaccess.py#insert_ohlcv:84: insert_ohlcv() complete. 2\n",
      "[2019/11/27 21:46:37] INFO - crawler.py#crawl_daily:108: download EURJPY,12h,2019-11-27T00:00:00.000000+00:00,2019-11-27T12:46:30.197721+00:00\n",
      "[2019/11/27 21:46:38] INFO - dbaccess.py#insert_ohlcv:66: insert_ohlcv() start. 1\n",
      "[2019/11/27 21:46:38] INFO - dbaccess.py#insert_ohlcv:84: insert_ohlcv() complete. 1\n",
      "[2019/11/27 21:46:38] INFO - crawler.py#crawl_daily:108: download EURJPY,1d,2019-11-24T00:00:00.000000+00:00,2019-11-24T23:59:59.999999+00:00\n",
      "[2019/11/27 21:46:39] INFO - dbaccess.py#insert_ohlcv:66: insert_ohlcv() start. 2\n",
      "[2019/11/27 21:46:39] INFO - dbaccess.py#insert_ohlcv:84: insert_ohlcv() complete. 2\n",
      "[2019/11/27 21:46:39] INFO - crawler.py#crawl_daily:108: download EURJPY,1d,2019-11-25T00:00:00.000000+00:00,2019-11-25T23:59:59.999999+00:00\n",
      "[2019/11/27 21:46:39] INFO - dbaccess.py#insert_ohlcv:66: insert_ohlcv() start. 2\n",
      "[2019/11/27 21:46:39] INFO - dbaccess.py#insert_ohlcv:84: insert_ohlcv() complete. 2\n",
      "[2019/11/27 21:46:39] INFO - crawler.py#crawl_daily:108: download EURJPY,1d,2019-11-26T00:00:00.000000+00:00,2019-11-26T23:59:59.999999+00:00\n",
      "[2019/11/27 21:46:41] INFO - dbaccess.py#insert_ohlcv:66: insert_ohlcv() start. 1\n",
      "[2019/11/27 21:46:41] INFO - dbaccess.py#insert_ohlcv:84: insert_ohlcv() complete. 1\n",
      "[2019/11/27 21:46:41] INFO - crawler.py#crawl_daily:108: download EURJPY,1d,2019-11-27T00:00:00.000000+00:00,2019-11-27T12:46:37.431215+00:00\n",
      "[2019/11/27 21:46:42] INFO - dbaccess.py#insert_ohlcv:66: insert_ohlcv() start. 114\n",
      "[2019/11/27 21:46:42] INFO - dbaccess.py#insert_ohlcv:84: insert_ohlcv() complete. 114\n",
      "[2019/11/27 21:46:42] INFO - crawler.py#crawl_daily:108: download GBPJPY,1m,2019-11-24T00:00:00.000000+00:00,2019-11-24T23:59:59.999999+00:00\n"
     ]
    },
    {
     "name": "stdout",
     "output_type": "stream",
     "text": [
      "[2019/11/27 21:46:45] INFO - dbaccess.py#insert_ohlcv:66: insert_ohlcv() start. 1424\n",
      "[2019/11/27 21:46:46] INFO - dbaccess.py#insert_ohlcv:84: insert_ohlcv() complete. 1424\n",
      "[2019/11/27 21:46:46] INFO - crawler.py#crawl_daily:108: download GBPJPY,1m,2019-11-25T00:00:00.000000+00:00,2019-11-25T23:59:59.999999+00:00\n",
      "[2019/11/27 21:46:49] INFO - dbaccess.py#insert_ohlcv:66: insert_ohlcv() start. 1421\n",
      "[2019/11/27 21:46:49] INFO - dbaccess.py#insert_ohlcv:84: insert_ohlcv() complete. 1421\n",
      "[2019/11/27 21:46:49] INFO - crawler.py#crawl_daily:108: download GBPJPY,1m,2019-11-26T00:00:00.000000+00:00,2019-11-26T23:59:59.999999+00:00\n",
      "[2019/11/27 21:46:50] INFO - dbaccess.py#insert_ohlcv:66: insert_ohlcv() start. 765\n",
      "[2019/11/27 21:46:50] INFO - dbaccess.py#insert_ohlcv:84: insert_ohlcv() complete. 765\n",
      "[2019/11/27 21:46:50] INFO - crawler.py#crawl_daily:108: download GBPJPY,1m,2019-11-27T00:00:00.000000+00:00,2019-11-27T12:46:41.876963+00:00\n",
      "[2019/11/27 21:46:51] INFO - dbaccess.py#insert_ohlcv:66: insert_ohlcv() start. 24\n",
      "[2019/11/27 21:46:51] INFO - dbaccess.py#insert_ohlcv:84: insert_ohlcv() complete. 24\n",
      "[2019/11/27 21:46:51] INFO - crawler.py#crawl_daily:108: download GBPJPY,5m,2019-11-24T00:00:00.000000+00:00,2019-11-24T23:59:59.999999+00:00\n",
      "[2019/11/27 21:46:53] INFO - dbaccess.py#insert_ohlcv:66: insert_ohlcv() start. 288\n",
      "[2019/11/27 21:46:53] INFO - dbaccess.py#insert_ohlcv:84: insert_ohlcv() complete. 288\n",
      "[2019/11/27 21:46:53] INFO - crawler.py#crawl_daily:108: download GBPJPY,5m,2019-11-25T00:00:00.000000+00:00,2019-11-25T23:59:59.999999+00:00\n",
      "[2019/11/27 21:46:54] INFO - dbaccess.py#insert_ohlcv:66: insert_ohlcv() start. 288\n",
      "[2019/11/27 21:46:55] INFO - dbaccess.py#insert_ohlcv:84: insert_ohlcv() complete. 288\n",
      "[2019/11/27 21:46:55] INFO - crawler.py#crawl_daily:108: download GBPJPY,5m,2019-11-26T00:00:00.000000+00:00,2019-11-26T23:59:59.999999+00:00\n",
      "[2019/11/27 21:46:55] INFO - dbaccess.py#insert_ohlcv:66: insert_ohlcv() start. 154\n",
      "[2019/11/27 21:46:55] INFO - dbaccess.py#insert_ohlcv:84: insert_ohlcv() complete. 154\n",
      "[2019/11/27 21:46:55] INFO - crawler.py#crawl_daily:108: download GBPJPY,5m,2019-11-27T00:00:00.000000+00:00,2019-11-27T12:46:50.800029+00:00\n",
      "[2019/11/27 21:46:56] INFO - dbaccess.py#insert_ohlcv:66: insert_ohlcv() start. 8\n",
      "[2019/11/27 21:46:56] INFO - dbaccess.py#insert_ohlcv:84: insert_ohlcv() complete. 8\n",
      "[2019/11/27 21:46:56] INFO - crawler.py#crawl_daily:108: download GBPJPY,15m,2019-11-24T00:00:00.000000+00:00,2019-11-24T23:59:59.999999+00:00\n",
      "[2019/11/27 21:46:58] INFO - dbaccess.py#insert_ohlcv:66: insert_ohlcv() start. 96\n",
      "[2019/11/27 21:46:58] INFO - dbaccess.py#insert_ohlcv:84: insert_ohlcv() complete. 96\n",
      "[2019/11/27 21:46:58] INFO - crawler.py#crawl_daily:108: download GBPJPY,15m,2019-11-25T00:00:00.000000+00:00,2019-11-25T23:59:59.999999+00:00\n",
      "[2019/11/27 21:47:00] INFO - dbaccess.py#insert_ohlcv:66: insert_ohlcv() start. 96\n",
      "[2019/11/27 21:47:00] INFO - dbaccess.py#insert_ohlcv:84: insert_ohlcv() complete. 96\n",
      "[2019/11/27 21:47:00] INFO - crawler.py#crawl_daily:108: download GBPJPY,15m,2019-11-26T00:00:00.000000+00:00,2019-11-26T23:59:59.999999+00:00\n",
      "[2019/11/27 21:47:05] INFO - dbaccess.py#insert_ohlcv:66: insert_ohlcv() start. 52\n",
      "[2019/11/27 21:47:05] INFO - dbaccess.py#insert_ohlcv:84: insert_ohlcv() complete. 52\n",
      "[2019/11/27 21:47:05] INFO - crawler.py#crawl_daily:108: download GBPJPY,15m,2019-11-27T00:00:00.000000+00:00,2019-11-27T12:46:55.871512+00:00\n",
      "[2019/11/27 21:47:07] INFO - dbaccess.py#insert_ohlcv:66: insert_ohlcv() start. 4\n",
      "[2019/11/27 21:47:07] INFO - dbaccess.py#insert_ohlcv:84: insert_ohlcv() complete. 4\n",
      "[2019/11/27 21:47:07] INFO - crawler.py#crawl_daily:108: download GBPJPY,30m,2019-11-24T00:00:00.000000+00:00,2019-11-24T23:59:59.999999+00:00\n",
      "[2019/11/27 21:47:08] INFO - dbaccess.py#insert_ohlcv:66: insert_ohlcv() start. 48\n",
      "[2019/11/27 21:47:08] INFO - dbaccess.py#insert_ohlcv:84: insert_ohlcv() complete. 48\n",
      "[2019/11/27 21:47:08] INFO - crawler.py#crawl_daily:108: download GBPJPY,30m,2019-11-25T00:00:00.000000+00:00,2019-11-25T23:59:59.999999+00:00\n",
      "[2019/11/27 21:47:10] INFO - dbaccess.py#insert_ohlcv:66: insert_ohlcv() start. 48\n",
      "[2019/11/27 21:47:10] INFO - dbaccess.py#insert_ohlcv:84: insert_ohlcv() complete. 48\n",
      "[2019/11/27 21:47:10] INFO - crawler.py#crawl_daily:108: download GBPJPY,30m,2019-11-26T00:00:00.000000+00:00,2019-11-26T23:59:59.999999+00:00\n",
      "[2019/11/27 21:47:12] INFO - dbaccess.py#insert_ohlcv:66: insert_ohlcv() start. 26\n",
      "[2019/11/27 21:47:12] INFO - dbaccess.py#insert_ohlcv:84: insert_ohlcv() complete. 26\n",
      "[2019/11/27 21:47:12] INFO - crawler.py#crawl_daily:108: download GBPJPY,30m,2019-11-27T00:00:00.000000+00:00,2019-11-27T12:47:05.132786+00:00\n",
      "[2019/11/27 21:47:12] INFO - dbaccess.py#insert_ohlcv:66: insert_ohlcv() start. 2\n",
      "[2019/11/27 21:47:12] INFO - dbaccess.py#insert_ohlcv:84: insert_ohlcv() complete. 2\n",
      "[2019/11/27 21:47:12] INFO - crawler.py#crawl_daily:108: download GBPJPY,1h,2019-11-24T00:00:00.000000+00:00,2019-11-24T23:59:59.999999+00:00\n",
      "[2019/11/27 21:47:13] INFO - dbaccess.py#insert_ohlcv:66: insert_ohlcv() start. 24\n",
      "[2019/11/27 21:47:13] INFO - dbaccess.py#insert_ohlcv:84: insert_ohlcv() complete. 24\n",
      "[2019/11/27 21:47:13] INFO - crawler.py#crawl_daily:108: download GBPJPY,1h,2019-11-25T00:00:00.000000+00:00,2019-11-25T23:59:59.999999+00:00\n",
      "[2019/11/27 21:47:15] INFO - dbaccess.py#insert_ohlcv:66: insert_ohlcv() start. 24\n",
      "[2019/11/27 21:47:15] INFO - dbaccess.py#insert_ohlcv:84: insert_ohlcv() complete. 24\n",
      "[2019/11/27 21:47:15] INFO - crawler.py#crawl_daily:108: download GBPJPY,1h,2019-11-26T00:00:00.000000+00:00,2019-11-26T23:59:59.999999+00:00\n",
      "[2019/11/27 21:47:16] INFO - dbaccess.py#insert_ohlcv:66: insert_ohlcv() start. 13\n",
      "[2019/11/27 21:47:16] INFO - dbaccess.py#insert_ohlcv:84: insert_ohlcv() complete. 13\n",
      "[2019/11/27 21:47:16] INFO - crawler.py#crawl_daily:108: download GBPJPY,1h,2019-11-27T00:00:00.000000+00:00,2019-11-27T12:47:12.151053+00:00\n",
      "[2019/11/27 21:47:17] INFO - dbaccess.py#insert_ohlcv:66: insert_ohlcv() start. 1\n",
      "[2019/11/27 21:47:17] INFO - dbaccess.py#insert_ohlcv:84: insert_ohlcv() complete. 1\n",
      "[2019/11/27 21:47:17] INFO - crawler.py#crawl_daily:108: download GBPJPY,4h,2019-11-24T00:00:00.000000+00:00,2019-11-24T23:59:59.999999+00:00\n",
      "[2019/11/27 21:47:18] INFO - dbaccess.py#insert_ohlcv:66: insert_ohlcv() start. 7\n",
      "[2019/11/27 21:47:18] INFO - dbaccess.py#insert_ohlcv:84: insert_ohlcv() complete. 7\n",
      "[2019/11/27 21:47:18] INFO - crawler.py#crawl_daily:108: download GBPJPY,4h,2019-11-25T00:00:00.000000+00:00,2019-11-25T23:59:59.999999+00:00\n",
      "[2019/11/27 21:47:18] INFO - dbaccess.py#insert_ohlcv:66: insert_ohlcv() start. 7\n",
      "[2019/11/27 21:47:18] INFO - dbaccess.py#insert_ohlcv:84: insert_ohlcv() complete. 7\n",
      "[2019/11/27 21:47:18] INFO - crawler.py#crawl_daily:108: download GBPJPY,4h,2019-11-26T00:00:00.000000+00:00,2019-11-26T23:59:59.999999+00:00\n",
      "[2019/11/27 21:47:21] INFO - dbaccess.py#insert_ohlcv:66: insert_ohlcv() start. 4\n",
      "[2019/11/27 21:47:21] INFO - dbaccess.py#insert_ohlcv:84: insert_ohlcv() complete. 4\n",
      "[2019/11/27 21:47:21] INFO - crawler.py#crawl_daily:108: download GBPJPY,4h,2019-11-27T00:00:00.000000+00:00,2019-11-27T12:47:16.472210+00:00\n",
      "[2019/11/27 21:47:21] INFO - dbaccess.py#insert_ohlcv:66: insert_ohlcv() start. 1\n",
      "[2019/11/27 21:47:21] INFO - dbaccess.py#insert_ohlcv:84: insert_ohlcv() complete. 1\n",
      "[2019/11/27 21:47:21] INFO - crawler.py#crawl_daily:108: download GBPJPY,6h,2019-11-24T00:00:00.000000+00:00,2019-11-24T23:59:59.999999+00:00\n",
      "[2019/11/27 21:47:22] INFO - dbaccess.py#insert_ohlcv:66: insert_ohlcv() start. 5\n",
      "[2019/11/27 21:47:22] INFO - dbaccess.py#insert_ohlcv:84: insert_ohlcv() complete. 5\n",
      "[2019/11/27 21:47:22] INFO - crawler.py#crawl_daily:108: download GBPJPY,6h,2019-11-25T00:00:00.000000+00:00,2019-11-25T23:59:59.999999+00:00\n",
      "[2019/11/27 21:47:23] INFO - dbaccess.py#insert_ohlcv:66: insert_ohlcv() start. 5\n",
      "[2019/11/27 21:47:23] INFO - dbaccess.py#insert_ohlcv:84: insert_ohlcv() complete. 5\n",
      "[2019/11/27 21:47:23] INFO - crawler.py#crawl_daily:108: download GBPJPY,6h,2019-11-26T00:00:00.000000+00:00,2019-11-26T23:59:59.999999+00:00\n",
      "[2019/11/27 21:47:24] INFO - dbaccess.py#insert_ohlcv:66: insert_ohlcv() start. 3\n",
      "[2019/11/27 21:47:24] INFO - dbaccess.py#insert_ohlcv:84: insert_ohlcv() complete. 3\n",
      "[2019/11/27 21:47:24] INFO - crawler.py#crawl_daily:108: download GBPJPY,6h,2019-11-27T00:00:00.000000+00:00,2019-11-27T12:47:21.018349+00:00\n"
     ]
    },
    {
     "name": "stdout",
     "output_type": "stream",
     "text": [
      "[2019/11/27 21:47:25] INFO - dbaccess.py#insert_ohlcv:66: insert_ohlcv() start. 1\n",
      "[2019/11/27 21:47:25] INFO - dbaccess.py#insert_ohlcv:84: insert_ohlcv() complete. 1\n",
      "[2019/11/27 21:47:25] INFO - crawler.py#crawl_daily:108: download GBPJPY,8h,2019-11-24T00:00:00.000000+00:00,2019-11-24T23:59:59.999999+00:00\n",
      "[2019/11/27 21:47:30] INFO - dbaccess.py#insert_ohlcv:66: insert_ohlcv() start. 4\n",
      "[2019/11/27 21:47:30] INFO - dbaccess.py#insert_ohlcv:84: insert_ohlcv() complete. 4\n",
      "[2019/11/27 21:47:30] INFO - crawler.py#crawl_daily:108: download GBPJPY,8h,2019-11-25T00:00:00.000000+00:00,2019-11-25T23:59:59.999999+00:00\n",
      "[2019/11/27 21:47:30] INFO - dbaccess.py#insert_ohlcv:66: insert_ohlcv() start. 4\n",
      "[2019/11/27 21:47:30] INFO - dbaccess.py#insert_ohlcv:84: insert_ohlcv() complete. 4\n",
      "[2019/11/27 21:47:31] INFO - crawler.py#crawl_daily:108: download GBPJPY,8h,2019-11-26T00:00:00.000000+00:00,2019-11-26T23:59:59.999999+00:00\n",
      "[2019/11/27 21:47:31] INFO - dbaccess.py#insert_ohlcv:66: insert_ohlcv() start. 2\n",
      "[2019/11/27 21:47:31] INFO - dbaccess.py#insert_ohlcv:84: insert_ohlcv() complete. 2\n",
      "[2019/11/27 21:47:31] INFO - crawler.py#crawl_daily:108: download GBPJPY,8h,2019-11-27T00:00:00.000000+00:00,2019-11-27T12:47:24.316768+00:00\n",
      "[2019/11/27 21:47:32] INFO - dbaccess.py#insert_ohlcv:66: insert_ohlcv() start. 1\n",
      "[2019/11/27 21:47:32] INFO - dbaccess.py#insert_ohlcv:84: insert_ohlcv() complete. 1\n",
      "[2019/11/27 21:47:32] INFO - crawler.py#crawl_daily:108: download GBPJPY,12h,2019-11-24T00:00:00.000000+00:00,2019-11-24T23:59:59.999999+00:00\n",
      "[2019/11/27 21:47:33] INFO - dbaccess.py#insert_ohlcv:66: insert_ohlcv() start. 3\n",
      "[2019/11/27 21:47:33] INFO - dbaccess.py#insert_ohlcv:84: insert_ohlcv() complete. 3\n",
      "[2019/11/27 21:47:33] INFO - crawler.py#crawl_daily:108: download GBPJPY,12h,2019-11-25T00:00:00.000000+00:00,2019-11-25T23:59:59.999999+00:00\n",
      "[2019/11/27 21:47:34] INFO - dbaccess.py#insert_ohlcv:66: insert_ohlcv() start. 3\n",
      "[2019/11/27 21:47:34] INFO - dbaccess.py#insert_ohlcv:84: insert_ohlcv() complete. 3\n",
      "[2019/11/27 21:47:34] INFO - crawler.py#crawl_daily:108: download GBPJPY,12h,2019-11-26T00:00:00.000000+00:00,2019-11-26T23:59:59.999999+00:00\n",
      "[2019/11/27 21:47:35] INFO - dbaccess.py#insert_ohlcv:66: insert_ohlcv() start. 2\n",
      "[2019/11/27 21:47:35] INFO - dbaccess.py#insert_ohlcv:84: insert_ohlcv() complete. 2\n",
      "[2019/11/27 21:47:35] INFO - crawler.py#crawl_daily:108: download GBPJPY,12h,2019-11-27T00:00:00.000000+00:00,2019-11-27T12:47:31.849241+00:00\n",
      "[2019/11/27 21:47:37] INFO - dbaccess.py#insert_ohlcv:66: insert_ohlcv() start. 1\n",
      "[2019/11/27 21:47:37] INFO - dbaccess.py#insert_ohlcv:84: insert_ohlcv() complete. 1\n",
      "[2019/11/27 21:47:37] INFO - crawler.py#crawl_daily:108: download GBPJPY,1d,2019-11-24T00:00:00.000000+00:00,2019-11-24T23:59:59.999999+00:00\n",
      "[2019/11/27 21:47:37] INFO - dbaccess.py#insert_ohlcv:66: insert_ohlcv() start. 2\n",
      "[2019/11/27 21:47:37] INFO - dbaccess.py#insert_ohlcv:84: insert_ohlcv() complete. 2\n",
      "[2019/11/27 21:47:37] INFO - crawler.py#crawl_daily:108: download GBPJPY,1d,2019-11-25T00:00:00.000000+00:00,2019-11-25T23:59:59.999999+00:00\n",
      "[2019/11/27 21:47:39] INFO - dbaccess.py#insert_ohlcv:66: insert_ohlcv() start. 2\n",
      "[2019/11/27 21:47:39] INFO - dbaccess.py#insert_ohlcv:84: insert_ohlcv() complete. 2\n",
      "[2019/11/27 21:47:39] INFO - crawler.py#crawl_daily:108: download GBPJPY,1d,2019-11-26T00:00:00.000000+00:00,2019-11-26T23:59:59.999999+00:00\n",
      "[2019/11/27 21:47:40] INFO - dbaccess.py#insert_ohlcv:66: insert_ohlcv() start. 1\n",
      "[2019/11/27 21:47:40] INFO - dbaccess.py#insert_ohlcv:84: insert_ohlcv() complete. 1\n",
      "[2019/11/27 21:47:40] INFO - crawler.py#crawl_daily:108: download GBPJPY,1d,2019-11-27T00:00:00.000000+00:00,2019-11-27T12:47:35.078579+00:00\n",
      "[2019/11/27 21:47:41] INFO - dbaccess.py#insert_ohlcv:66: insert_ohlcv() start. 73\n",
      "[2019/11/27 21:47:41] INFO - dbaccess.py#insert_ohlcv:84: insert_ohlcv() complete. 73\n",
      "[2019/11/27 21:47:41] INFO - crawler.py#crawl_daily:108: download EURUSD,1m,2019-11-24T00:00:00.000000+00:00,2019-11-24T23:59:59.999999+00:00\n",
      "[2019/11/27 21:47:42] INFO - dbaccess.py#insert_ohlcv:66: insert_ohlcv() start. 1256\n",
      "[2019/11/27 21:47:43] INFO - dbaccess.py#insert_ohlcv:84: insert_ohlcv() complete. 1256\n",
      "[2019/11/27 21:47:43] INFO - crawler.py#crawl_daily:108: download EURUSD,1m,2019-11-25T00:00:00.000000+00:00,2019-11-25T23:59:59.999999+00:00\n",
      "[2019/11/27 21:47:46] INFO - dbaccess.py#insert_ohlcv:66: insert_ohlcv() start. 1237\n",
      "[2019/11/27 21:47:46] INFO - dbaccess.py#insert_ohlcv:84: insert_ohlcv() complete. 1237\n",
      "[2019/11/27 21:47:46] INFO - crawler.py#crawl_daily:108: download EURUSD,1m,2019-11-26T00:00:00.000000+00:00,2019-11-26T23:59:59.999999+00:00\n",
      "[2019/11/27 21:47:47] INFO - dbaccess.py#insert_ohlcv:66: insert_ohlcv() start. 614\n",
      "[2019/11/27 21:47:47] INFO - dbaccess.py#insert_ohlcv:84: insert_ohlcv() complete. 614\n",
      "[2019/11/27 21:47:47] INFO - crawler.py#crawl_daily:108: download EURUSD,1m,2019-11-27T00:00:00.000000+00:00,2019-11-27T12:47:40.756164+00:00\n",
      "[2019/11/27 21:47:48] INFO - dbaccess.py#insert_ohlcv:66: insert_ohlcv() start. 23\n",
      "[2019/11/27 21:47:48] INFO - dbaccess.py#insert_ohlcv:84: insert_ohlcv() complete. 23\n",
      "[2019/11/27 21:47:48] INFO - crawler.py#crawl_daily:108: download EURUSD,5m,2019-11-24T00:00:00.000000+00:00,2019-11-24T23:59:59.999999+00:00\n",
      "[2019/11/27 21:47:51] INFO - dbaccess.py#insert_ohlcv:66: insert_ohlcv() start. 286\n",
      "[2019/11/27 21:47:51] INFO - dbaccess.py#insert_ohlcv:84: insert_ohlcv() complete. 286\n",
      "[2019/11/27 21:47:51] INFO - crawler.py#crawl_daily:108: download EURUSD,5m,2019-11-25T00:00:00.000000+00:00,2019-11-25T23:59:59.999999+00:00\n",
      "[2019/11/27 21:47:52] INFO - dbaccess.py#insert_ohlcv:66: insert_ohlcv() start. 285\n",
      "[2019/11/27 21:47:52] INFO - dbaccess.py#insert_ohlcv:84: insert_ohlcv() complete. 285\n",
      "[2019/11/27 21:47:52] INFO - crawler.py#crawl_daily:108: download EURUSD,5m,2019-11-26T00:00:00.000000+00:00,2019-11-26T23:59:59.999999+00:00\n",
      "[2019/11/27 21:47:53] INFO - dbaccess.py#insert_ohlcv:66: insert_ohlcv() start. 150\n",
      "[2019/11/27 21:47:53] INFO - dbaccess.py#insert_ohlcv:84: insert_ohlcv() complete. 150\n",
      "[2019/11/27 21:47:53] INFO - crawler.py#crawl_daily:108: download EURUSD,5m,2019-11-27T00:00:00.000000+00:00,2019-11-27T12:47:47.930474+00:00\n",
      "[2019/11/27 21:47:53] INFO - dbaccess.py#insert_ohlcv:66: insert_ohlcv() start. 8\n",
      "[2019/11/27 21:47:53] INFO - dbaccess.py#insert_ohlcv:84: insert_ohlcv() complete. 8\n",
      "[2019/11/27 21:47:53] INFO - crawler.py#crawl_daily:108: download EURUSD,15m,2019-11-24T00:00:00.000000+00:00,2019-11-24T23:59:59.999999+00:00\n",
      "[2019/11/27 21:47:54] INFO - dbaccess.py#insert_ohlcv:66: insert_ohlcv() start. 96\n",
      "[2019/11/27 21:47:54] INFO - dbaccess.py#insert_ohlcv:84: insert_ohlcv() complete. 96\n",
      "[2019/11/27 21:47:54] INFO - crawler.py#crawl_daily:108: download EURUSD,15m,2019-11-25T00:00:00.000000+00:00,2019-11-25T23:59:59.999999+00:00\n",
      "[2019/11/27 21:47:55] INFO - dbaccess.py#insert_ohlcv:66: insert_ohlcv() start. 96\n",
      "[2019/11/27 21:47:55] INFO - dbaccess.py#insert_ohlcv:84: insert_ohlcv() complete. 96\n",
      "[2019/11/27 21:47:55] INFO - crawler.py#crawl_daily:108: download EURUSD,15m,2019-11-26T00:00:00.000000+00:00,2019-11-26T23:59:59.999999+00:00\n",
      "[2019/11/27 21:47:56] INFO - dbaccess.py#insert_ohlcv:66: insert_ohlcv() start. 52\n",
      "[2019/11/27 21:47:56] INFO - dbaccess.py#insert_ohlcv:84: insert_ohlcv() complete. 52\n",
      "[2019/11/27 21:47:56] INFO - crawler.py#crawl_daily:108: download EURUSD,15m,2019-11-27T00:00:00.000000+00:00,2019-11-27T12:47:53.170170+00:00\n",
      "[2019/11/27 21:48:00] INFO - dbaccess.py#insert_ohlcv:66: insert_ohlcv() start. 4\n",
      "[2019/11/27 21:48:00] INFO - dbaccess.py#insert_ohlcv:84: insert_ohlcv() complete. 4\n",
      "[2019/11/27 21:48:00] INFO - crawler.py#crawl_daily:108: download EURUSD,30m,2019-11-24T00:00:00.000000+00:00,2019-11-24T23:59:59.999999+00:00\n",
      "[2019/11/27 21:48:01] INFO - dbaccess.py#insert_ohlcv:66: insert_ohlcv() start. 48\n",
      "[2019/11/27 21:48:01] INFO - dbaccess.py#insert_ohlcv:84: insert_ohlcv() complete. 48\n",
      "[2019/11/27 21:48:01] INFO - crawler.py#crawl_daily:108: download EURUSD,30m,2019-11-25T00:00:00.000000+00:00,2019-11-25T23:59:59.999999+00:00\n",
      "[2019/11/27 21:48:06] INFO - dbaccess.py#insert_ohlcv:66: insert_ohlcv() start. 48\n",
      "[2019/11/27 21:48:06] INFO - dbaccess.py#insert_ohlcv:84: insert_ohlcv() complete. 48\n",
      "[2019/11/27 21:48:06] INFO - crawler.py#crawl_daily:108: download EURUSD,30m,2019-11-26T00:00:00.000000+00:00,2019-11-26T23:59:59.999999+00:00\n"
     ]
    },
    {
     "name": "stdout",
     "output_type": "stream",
     "text": [
      "[2019/11/27 21:48:10] INFO - dbaccess.py#insert_ohlcv:66: insert_ohlcv() start. 26\n",
      "[2019/11/27 21:48:10] INFO - dbaccess.py#insert_ohlcv:84: insert_ohlcv() complete. 26\n",
      "[2019/11/27 21:48:10] INFO - crawler.py#crawl_daily:108: download EURUSD,30m,2019-11-27T00:00:00.000000+00:00,2019-11-27T12:47:56.587438+00:00\n",
      "[2019/11/27 21:48:11] INFO - dbaccess.py#insert_ohlcv:66: insert_ohlcv() start. 2\n",
      "[2019/11/27 21:48:11] INFO - dbaccess.py#insert_ohlcv:84: insert_ohlcv() complete. 2\n",
      "[2019/11/27 21:48:11] INFO - crawler.py#crawl_daily:108: download EURUSD,1h,2019-11-24T00:00:00.000000+00:00,2019-11-24T23:59:59.999999+00:00\n",
      "[2019/11/27 21:48:13] INFO - dbaccess.py#insert_ohlcv:66: insert_ohlcv() start. 24\n",
      "[2019/11/27 21:48:13] INFO - dbaccess.py#insert_ohlcv:84: insert_ohlcv() complete. 24\n",
      "[2019/11/27 21:48:13] INFO - crawler.py#crawl_daily:108: download EURUSD,1h,2019-11-25T00:00:00.000000+00:00,2019-11-25T23:59:59.999999+00:00\n",
      "[2019/11/27 21:48:14] INFO - dbaccess.py#insert_ohlcv:66: insert_ohlcv() start. 24\n",
      "[2019/11/27 21:48:14] INFO - dbaccess.py#insert_ohlcv:84: insert_ohlcv() complete. 24\n",
      "[2019/11/27 21:48:14] INFO - crawler.py#crawl_daily:108: download EURUSD,1h,2019-11-26T00:00:00.000000+00:00,2019-11-26T23:59:59.999999+00:00\n",
      "[2019/11/27 21:48:16] INFO - dbaccess.py#insert_ohlcv:66: insert_ohlcv() start. 13\n",
      "[2019/11/27 21:48:16] INFO - dbaccess.py#insert_ohlcv:84: insert_ohlcv() complete. 13\n",
      "[2019/11/27 21:48:16] INFO - crawler.py#crawl_daily:108: download EURUSD,1h,2019-11-27T00:00:00.000000+00:00,2019-11-27T12:48:10.927370+00:00\n",
      "[2019/11/27 21:48:17] INFO - dbaccess.py#insert_ohlcv:66: insert_ohlcv() start. 1\n",
      "[2019/11/27 21:48:17] INFO - dbaccess.py#insert_ohlcv:84: insert_ohlcv() complete. 1\n",
      "[2019/11/27 21:48:17] INFO - crawler.py#crawl_daily:108: download EURUSD,4h,2019-11-24T00:00:00.000000+00:00,2019-11-24T23:59:59.999999+00:00\n",
      "[2019/11/27 21:48:17] INFO - dbaccess.py#insert_ohlcv:66: insert_ohlcv() start. 7\n",
      "[2019/11/27 21:48:18] INFO - dbaccess.py#insert_ohlcv:84: insert_ohlcv() complete. 7\n",
      "[2019/11/27 21:48:18] INFO - crawler.py#crawl_daily:108: download EURUSD,4h,2019-11-25T00:00:00.000000+00:00,2019-11-25T23:59:59.999999+00:00\n",
      "[2019/11/27 21:48:18] INFO - dbaccess.py#insert_ohlcv:66: insert_ohlcv() start. 7\n",
      "[2019/11/27 21:48:18] INFO - dbaccess.py#insert_ohlcv:84: insert_ohlcv() complete. 7\n",
      "[2019/11/27 21:48:18] INFO - crawler.py#crawl_daily:108: download EURUSD,4h,2019-11-26T00:00:00.000000+00:00,2019-11-26T23:59:59.999999+00:00\n",
      "[2019/11/27 21:48:19] INFO - dbaccess.py#insert_ohlcv:66: insert_ohlcv() start. 4\n",
      "[2019/11/27 21:48:19] INFO - dbaccess.py#insert_ohlcv:84: insert_ohlcv() complete. 4\n",
      "[2019/11/27 21:48:19] INFO - crawler.py#crawl_daily:108: download EURUSD,4h,2019-11-27T00:00:00.000000+00:00,2019-11-27T12:48:16.354259+00:00\n",
      "[2019/11/27 21:48:20] INFO - dbaccess.py#insert_ohlcv:66: insert_ohlcv() start. 1\n",
      "[2019/11/27 21:48:20] INFO - dbaccess.py#insert_ohlcv:84: insert_ohlcv() complete. 1\n",
      "[2019/11/27 21:48:20] INFO - crawler.py#crawl_daily:108: download EURUSD,6h,2019-11-24T00:00:00.000000+00:00,2019-11-24T23:59:59.999999+00:00\n",
      "[2019/11/27 21:48:22] INFO - dbaccess.py#insert_ohlcv:66: insert_ohlcv() start. 5\n",
      "[2019/11/27 21:48:22] INFO - dbaccess.py#insert_ohlcv:84: insert_ohlcv() complete. 5\n",
      "[2019/11/27 21:48:22] INFO - crawler.py#crawl_daily:108: download EURUSD,6h,2019-11-25T00:00:00.000000+00:00,2019-11-25T23:59:59.999999+00:00\n",
      "[2019/11/27 21:48:23] INFO - dbaccess.py#insert_ohlcv:66: insert_ohlcv() start. 5\n",
      "[2019/11/27 21:48:23] INFO - dbaccess.py#insert_ohlcv:84: insert_ohlcv() complete. 5\n",
      "[2019/11/27 21:48:23] INFO - crawler.py#crawl_daily:108: download EURUSD,6h,2019-11-26T00:00:00.000000+00:00,2019-11-26T23:59:59.999999+00:00\n",
      "[2019/11/27 21:48:23] INFO - dbaccess.py#insert_ohlcv:66: insert_ohlcv() start. 3\n",
      "[2019/11/27 21:48:23] INFO - dbaccess.py#insert_ohlcv:84: insert_ohlcv() complete. 3\n",
      "[2019/11/27 21:48:23] INFO - crawler.py#crawl_daily:108: download EURUSD,6h,2019-11-27T00:00:00.000000+00:00,2019-11-27T12:48:19.706934+00:00\n",
      "[2019/11/27 21:48:24] INFO - dbaccess.py#insert_ohlcv:66: insert_ohlcv() start. 1\n",
      "[2019/11/27 21:48:24] INFO - dbaccess.py#insert_ohlcv:84: insert_ohlcv() complete. 1\n",
      "[2019/11/27 21:48:24] INFO - crawler.py#crawl_daily:108: download EURUSD,8h,2019-11-24T00:00:00.000000+00:00,2019-11-24T23:59:59.999999+00:00\n",
      "[2019/11/27 21:48:28] INFO - dbaccess.py#insert_ohlcv:66: insert_ohlcv() start. 4\n",
      "[2019/11/27 21:48:28] INFO - dbaccess.py#insert_ohlcv:84: insert_ohlcv() complete. 4\n",
      "[2019/11/27 21:48:28] INFO - crawler.py#crawl_daily:108: download EURUSD,8h,2019-11-25T00:00:00.000000+00:00,2019-11-25T23:59:59.999999+00:00\n",
      "[2019/11/27 21:48:29] INFO - dbaccess.py#insert_ohlcv:66: insert_ohlcv() start. 4\n",
      "[2019/11/27 21:48:29] INFO - dbaccess.py#insert_ohlcv:84: insert_ohlcv() complete. 4\n",
      "[2019/11/27 21:48:29] INFO - crawler.py#crawl_daily:108: download EURUSD,8h,2019-11-26T00:00:00.000000+00:00,2019-11-26T23:59:59.999999+00:00\n",
      "[2019/11/27 21:48:31] INFO - dbaccess.py#insert_ohlcv:66: insert_ohlcv() start. 2\n",
      "[2019/11/27 21:48:31] INFO - dbaccess.py#insert_ohlcv:84: insert_ohlcv() complete. 2\n",
      "[2019/11/27 21:48:31] INFO - crawler.py#crawl_daily:108: download EURUSD,8h,2019-11-27T00:00:00.000000+00:00,2019-11-27T12:48:23.967499+00:00\n",
      "[2019/11/27 21:48:32] INFO - dbaccess.py#insert_ohlcv:66: insert_ohlcv() start. 1\n",
      "[2019/11/27 21:48:32] INFO - dbaccess.py#insert_ohlcv:84: insert_ohlcv() complete. 1\n",
      "[2019/11/27 21:48:32] INFO - crawler.py#crawl_daily:108: download EURUSD,12h,2019-11-24T00:00:00.000000+00:00,2019-11-24T23:59:59.999999+00:00\n",
      "[2019/11/27 21:48:33] INFO - dbaccess.py#insert_ohlcv:66: insert_ohlcv() start. 3\n",
      "[2019/11/27 21:48:33] INFO - dbaccess.py#insert_ohlcv:84: insert_ohlcv() complete. 3\n",
      "[2019/11/27 21:48:33] INFO - crawler.py#crawl_daily:108: download EURUSD,12h,2019-11-25T00:00:00.000000+00:00,2019-11-25T23:59:59.999999+00:00\n",
      "[2019/11/27 21:48:34] INFO - dbaccess.py#insert_ohlcv:66: insert_ohlcv() start. 3\n",
      "[2019/11/27 21:48:34] INFO - dbaccess.py#insert_ohlcv:84: insert_ohlcv() complete. 3\n",
      "[2019/11/27 21:48:34] INFO - crawler.py#crawl_daily:108: download EURUSD,12h,2019-11-26T00:00:00.000000+00:00,2019-11-26T23:59:59.999999+00:00\n",
      "[2019/11/27 21:48:36] INFO - dbaccess.py#insert_ohlcv:66: insert_ohlcv() start. 2\n",
      "[2019/11/27 21:48:36] INFO - dbaccess.py#insert_ohlcv:84: insert_ohlcv() complete. 2\n",
      "[2019/11/27 21:48:36] INFO - crawler.py#crawl_daily:108: download EURUSD,12h,2019-11-27T00:00:00.000000+00:00,2019-11-27T12:48:31.707948+00:00\n",
      "[2019/11/27 21:48:40] INFO - dbaccess.py#insert_ohlcv:66: insert_ohlcv() start. 1\n",
      "[2019/11/27 21:48:40] INFO - dbaccess.py#insert_ohlcv:84: insert_ohlcv() complete. 1\n",
      "[2019/11/27 21:48:40] INFO - crawler.py#crawl_daily:108: download EURUSD,1d,2019-11-24T00:00:00.000000+00:00,2019-11-24T23:59:59.999999+00:00\n",
      "[2019/11/27 21:48:40] INFO - dbaccess.py#insert_ohlcv:66: insert_ohlcv() start. 2\n",
      "[2019/11/27 21:48:40] INFO - dbaccess.py#insert_ohlcv:84: insert_ohlcv() complete. 2\n",
      "[2019/11/27 21:48:40] INFO - crawler.py#crawl_daily:108: download EURUSD,1d,2019-11-25T00:00:00.000000+00:00,2019-11-25T23:59:59.999999+00:00\n",
      "[2019/11/27 21:48:41] INFO - dbaccess.py#insert_ohlcv:66: insert_ohlcv() start. 2\n",
      "[2019/11/27 21:48:41] INFO - dbaccess.py#insert_ohlcv:84: insert_ohlcv() complete. 2\n",
      "[2019/11/27 21:48:41] INFO - crawler.py#crawl_daily:108: download EURUSD,1d,2019-11-26T00:00:00.000000+00:00,2019-11-26T23:59:59.999999+00:00\n",
      "[2019/11/27 21:48:42] INFO - dbaccess.py#insert_ohlcv:66: insert_ohlcv() start. 1\n",
      "[2019/11/27 21:48:42] INFO - dbaccess.py#insert_ohlcv:84: insert_ohlcv() complete. 1\n",
      "[2019/11/27 21:48:42] INFO - crawler.py#crawl_daily:108: download EURUSD,1d,2019-11-27T00:00:00.000000+00:00,2019-11-27T12:48:36.037171+00:00\n",
      "[2019/11/27 21:48:44] INFO - dbaccess.py#insert_ohlcv:66: insert_ohlcv() start. 83\n",
      "[2019/11/27 21:48:44] INFO - dbaccess.py#insert_ohlcv:84: insert_ohlcv() complete. 83\n",
      "[2019/11/27 21:48:44] INFO - crawler.py#crawl_daily:108: download GBPUSD,1m,2019-11-24T00:00:00.000000+00:00,2019-11-24T23:59:59.999999+00:00\n",
      "[2019/11/27 21:48:47] INFO - dbaccess.py#insert_ohlcv:66: insert_ohlcv() start. 1260\n",
      "[2019/11/27 21:48:48] INFO - dbaccess.py#insert_ohlcv:84: insert_ohlcv() complete. 1260\n",
      "[2019/11/27 21:48:48] INFO - crawler.py#crawl_daily:108: download GBPUSD,1m,2019-11-25T00:00:00.000000+00:00,2019-11-25T23:59:59.999999+00:00\n"
     ]
    },
    {
     "name": "stdout",
     "output_type": "stream",
     "text": [
      "[2019/11/27 21:48:50] INFO - dbaccess.py#insert_ohlcv:66: insert_ohlcv() start. 1266\n",
      "[2019/11/27 21:48:50] INFO - dbaccess.py#insert_ohlcv:84: insert_ohlcv() complete. 1266\n",
      "[2019/11/27 21:48:50] INFO - crawler.py#crawl_daily:108: download GBPUSD,1m,2019-11-26T00:00:00.000000+00:00,2019-11-26T23:59:59.999999+00:00\n",
      "[2019/11/27 21:48:54] INFO - dbaccess.py#insert_ohlcv:66: insert_ohlcv() start. 690\n",
      "[2019/11/27 21:48:54] INFO - dbaccess.py#insert_ohlcv:84: insert_ohlcv() complete. 690\n",
      "[2019/11/27 21:48:54] INFO - crawler.py#crawl_daily:108: download GBPUSD,1m,2019-11-27T00:00:00.000000+00:00,2019-11-27T12:48:42.477742+00:00\n",
      "[2019/11/27 21:48:56] INFO - dbaccess.py#insert_ohlcv:66: insert_ohlcv() start. 23\n",
      "[2019/11/27 21:48:56] INFO - dbaccess.py#insert_ohlcv:84: insert_ohlcv() complete. 23\n",
      "[2019/11/27 21:48:56] INFO - crawler.py#crawl_daily:108: download GBPUSD,5m,2019-11-24T00:00:00.000000+00:00,2019-11-24T23:59:59.999999+00:00\n",
      "[2019/11/27 21:48:59] INFO - dbaccess.py#insert_ohlcv:66: insert_ohlcv() start. 288\n",
      "[2019/11/27 21:48:59] INFO - dbaccess.py#insert_ohlcv:84: insert_ohlcv() complete. 288\n",
      "[2019/11/27 21:48:59] INFO - crawler.py#crawl_daily:108: download GBPUSD,5m,2019-11-25T00:00:00.000000+00:00,2019-11-25T23:59:59.999999+00:00\n",
      "[2019/11/27 21:49:00] INFO - dbaccess.py#insert_ohlcv:66: insert_ohlcv() start. 287\n",
      "[2019/11/27 21:49:01] INFO - dbaccess.py#insert_ohlcv:84: insert_ohlcv() complete. 287\n",
      "[2019/11/27 21:49:01] INFO - crawler.py#crawl_daily:108: download GBPUSD,5m,2019-11-26T00:00:00.000000+00:00,2019-11-26T23:59:59.999999+00:00\n",
      "[2019/11/27 21:49:06] INFO - dbaccess.py#insert_ohlcv:66: insert_ohlcv() start. 153\n",
      "[2019/11/27 21:49:06] INFO - dbaccess.py#insert_ohlcv:84: insert_ohlcv() complete. 153\n",
      "[2019/11/27 21:49:06] INFO - crawler.py#crawl_daily:108: download GBPUSD,5m,2019-11-27T00:00:00.000000+00:00,2019-11-27T12:48:54.403961+00:00\n",
      "[2019/11/27 21:49:07] INFO - dbaccess.py#insert_ohlcv:66: insert_ohlcv() start. 8\n",
      "[2019/11/27 21:49:07] INFO - dbaccess.py#insert_ohlcv:84: insert_ohlcv() complete. 8\n",
      "[2019/11/27 21:49:07] INFO - crawler.py#crawl_daily:108: download GBPUSD,15m,2019-11-24T00:00:00.000000+00:00,2019-11-24T23:59:59.999999+00:00\n",
      "[2019/11/27 21:49:11] INFO - dbaccess.py#insert_ohlcv:66: insert_ohlcv() start. 96\n",
      "[2019/11/27 21:49:11] INFO - dbaccess.py#insert_ohlcv:84: insert_ohlcv() complete. 96\n",
      "[2019/11/27 21:49:11] INFO - crawler.py#crawl_daily:108: download GBPUSD,15m,2019-11-25T00:00:00.000000+00:00,2019-11-25T23:59:59.999999+00:00\n",
      "[2019/11/27 21:49:11] INFO - dbaccess.py#insert_ohlcv:66: insert_ohlcv() start. 96\n",
      "[2019/11/27 21:49:12] INFO - dbaccess.py#insert_ohlcv:84: insert_ohlcv() complete. 96\n",
      "[2019/11/27 21:49:12] INFO - crawler.py#crawl_daily:108: download GBPUSD,15m,2019-11-26T00:00:00.000000+00:00,2019-11-26T23:59:59.999999+00:00\n",
      "[2019/11/27 21:49:12] INFO - dbaccess.py#insert_ohlcv:66: insert_ohlcv() start. 52\n",
      "[2019/11/27 21:49:12] INFO - dbaccess.py#insert_ohlcv:84: insert_ohlcv() complete. 52\n",
      "[2019/11/27 21:49:12] INFO - crawler.py#crawl_daily:108: download GBPUSD,15m,2019-11-27T00:00:00.000000+00:00,2019-11-27T12:49:06.568510+00:00\n",
      "[2019/11/27 21:49:13] INFO - dbaccess.py#insert_ohlcv:66: insert_ohlcv() start. 4\n",
      "[2019/11/27 21:49:13] INFO - dbaccess.py#insert_ohlcv:84: insert_ohlcv() complete. 4\n",
      "[2019/11/27 21:49:13] INFO - crawler.py#crawl_daily:108: download GBPUSD,30m,2019-11-24T00:00:00.000000+00:00,2019-11-24T23:59:59.999999+00:00\n",
      "[2019/11/27 21:49:15] INFO - dbaccess.py#insert_ohlcv:66: insert_ohlcv() start. 48\n",
      "[2019/11/27 21:49:15] INFO - dbaccess.py#insert_ohlcv:84: insert_ohlcv() complete. 48\n",
      "[2019/11/27 21:49:15] INFO - crawler.py#crawl_daily:108: download GBPUSD,30m,2019-11-25T00:00:00.000000+00:00,2019-11-25T23:59:59.999999+00:00\n",
      "[2019/11/27 21:49:16] INFO - dbaccess.py#insert_ohlcv:66: insert_ohlcv() start. 48\n",
      "[2019/11/27 21:49:16] INFO - dbaccess.py#insert_ohlcv:84: insert_ohlcv() complete. 48\n",
      "[2019/11/27 21:49:16] INFO - crawler.py#crawl_daily:108: download GBPUSD,30m,2019-11-26T00:00:00.000000+00:00,2019-11-26T23:59:59.999999+00:00\n",
      "[2019/11/27 21:49:17] INFO - dbaccess.py#insert_ohlcv:66: insert_ohlcv() start. 26\n",
      "[2019/11/27 21:49:17] INFO - dbaccess.py#insert_ohlcv:84: insert_ohlcv() complete. 26\n",
      "[2019/11/27 21:49:17] INFO - crawler.py#crawl_daily:108: download GBPUSD,30m,2019-11-27T00:00:00.000000+00:00,2019-11-27T12:49:12.818970+00:00\n",
      "[2019/11/27 21:49:21] INFO - dbaccess.py#insert_ohlcv:66: insert_ohlcv() start. 2\n",
      "[2019/11/27 21:49:21] INFO - dbaccess.py#insert_ohlcv:84: insert_ohlcv() complete. 2\n",
      "[2019/11/27 21:49:21] INFO - crawler.py#crawl_daily:108: download GBPUSD,1h,2019-11-24T00:00:00.000000+00:00,2019-11-24T23:59:59.999999+00:00\n",
      "[2019/11/27 21:49:22] INFO - dbaccess.py#insert_ohlcv:66: insert_ohlcv() start. 24\n",
      "[2019/11/27 21:49:22] INFO - dbaccess.py#insert_ohlcv:84: insert_ohlcv() complete. 24\n",
      "[2019/11/27 21:49:22] INFO - crawler.py#crawl_daily:108: download GBPUSD,1h,2019-11-25T00:00:00.000000+00:00,2019-11-25T23:59:59.999999+00:00\n",
      "[2019/11/27 21:49:23] INFO - dbaccess.py#insert_ohlcv:66: insert_ohlcv() start. 24\n",
      "[2019/11/27 21:49:23] INFO - dbaccess.py#insert_ohlcv:84: insert_ohlcv() complete. 24\n",
      "[2019/11/27 21:49:23] INFO - crawler.py#crawl_daily:108: download GBPUSD,1h,2019-11-26T00:00:00.000000+00:00,2019-11-26T23:59:59.999999+00:00\n",
      "[2019/11/27 21:49:24] INFO - dbaccess.py#insert_ohlcv:66: insert_ohlcv() start. 13\n",
      "[2019/11/27 21:49:24] INFO - dbaccess.py#insert_ohlcv:84: insert_ohlcv() complete. 13\n",
      "[2019/11/27 21:49:24] INFO - crawler.py#crawl_daily:108: download GBPUSD,1h,2019-11-27T00:00:00.000000+00:00,2019-11-27T12:49:17.547792+00:00\n",
      "[2019/11/27 21:49:28] INFO - dbaccess.py#insert_ohlcv:66: insert_ohlcv() start. 1\n",
      "[2019/11/27 21:49:28] INFO - dbaccess.py#insert_ohlcv:84: insert_ohlcv() complete. 1\n",
      "[2019/11/27 21:49:28] INFO - crawler.py#crawl_daily:108: download GBPUSD,4h,2019-11-24T00:00:00.000000+00:00,2019-11-24T23:59:59.999999+00:00\n",
      "[2019/11/27 21:49:29] INFO - dbaccess.py#insert_ohlcv:66: insert_ohlcv() start. 7\n",
      "[2019/11/27 21:49:29] INFO - dbaccess.py#insert_ohlcv:84: insert_ohlcv() complete. 7\n",
      "[2019/11/27 21:49:29] INFO - crawler.py#crawl_daily:108: download GBPUSD,4h,2019-11-25T00:00:00.000000+00:00,2019-11-25T23:59:59.999999+00:00\n",
      "[2019/11/27 21:49:30] INFO - dbaccess.py#insert_ohlcv:66: insert_ohlcv() start. 7\n",
      "[2019/11/27 21:49:30] INFO - dbaccess.py#insert_ohlcv:84: insert_ohlcv() complete. 7\n",
      "[2019/11/27 21:49:30] INFO - crawler.py#crawl_daily:108: download GBPUSD,4h,2019-11-26T00:00:00.000000+00:00,2019-11-26T23:59:59.999999+00:00\n",
      "[2019/11/27 21:49:31] INFO - dbaccess.py#insert_ohlcv:66: insert_ohlcv() start. 4\n",
      "[2019/11/27 21:49:31] INFO - dbaccess.py#insert_ohlcv:84: insert_ohlcv() complete. 4\n",
      "[2019/11/27 21:49:31] INFO - crawler.py#crawl_daily:108: download GBPUSD,4h,2019-11-27T00:00:00.000000+00:00,2019-11-27T12:49:24.130649+00:00\n",
      "[2019/11/27 21:49:32] INFO - dbaccess.py#insert_ohlcv:66: insert_ohlcv() start. 1\n",
      "[2019/11/27 21:49:32] INFO - dbaccess.py#insert_ohlcv:84: insert_ohlcv() complete. 1\n",
      "[2019/11/27 21:49:32] INFO - crawler.py#crawl_daily:108: download GBPUSD,6h,2019-11-24T00:00:00.000000+00:00,2019-11-24T23:59:59.999999+00:00\n",
      "[2019/11/27 21:49:33] INFO - dbaccess.py#insert_ohlcv:66: insert_ohlcv() start. 5\n",
      "[2019/11/27 21:49:33] INFO - dbaccess.py#insert_ohlcv:84: insert_ohlcv() complete. 5\n",
      "[2019/11/27 21:49:33] INFO - crawler.py#crawl_daily:108: download GBPUSD,6h,2019-11-25T00:00:00.000000+00:00,2019-11-25T23:59:59.999999+00:00\n",
      "[2019/11/27 21:49:34] INFO - dbaccess.py#insert_ohlcv:66: insert_ohlcv() start. 5\n",
      "[2019/11/27 21:49:34] INFO - dbaccess.py#insert_ohlcv:84: insert_ohlcv() complete. 5\n",
      "[2019/11/27 21:49:34] INFO - crawler.py#crawl_daily:108: download GBPUSD,6h,2019-11-26T00:00:00.000000+00:00,2019-11-26T23:59:59.999999+00:00\n",
      "[2019/11/27 21:49:34] INFO - dbaccess.py#insert_ohlcv:66: insert_ohlcv() start. 3\n",
      "[2019/11/27 21:49:34] INFO - dbaccess.py#insert_ohlcv:84: insert_ohlcv() complete. 3\n",
      "[2019/11/27 21:49:34] INFO - crawler.py#crawl_daily:108: download GBPUSD,6h,2019-11-27T00:00:00.000000+00:00,2019-11-27T12:49:31.597771+00:00\n",
      "[2019/11/27 21:49:35] INFO - dbaccess.py#insert_ohlcv:66: insert_ohlcv() start. 1\n",
      "[2019/11/27 21:49:35] INFO - dbaccess.py#insert_ohlcv:84: insert_ohlcv() complete. 1\n",
      "[2019/11/27 21:49:35] INFO - crawler.py#crawl_daily:108: download GBPUSD,8h,2019-11-24T00:00:00.000000+00:00,2019-11-24T23:59:59.999999+00:00\n"
     ]
    },
    {
     "name": "stdout",
     "output_type": "stream",
     "text": [
      "[2019/11/27 21:49:36] INFO - dbaccess.py#insert_ohlcv:66: insert_ohlcv() start. 4\n",
      "[2019/11/27 21:49:36] INFO - dbaccess.py#insert_ohlcv:84: insert_ohlcv() complete. 4\n",
      "[2019/11/27 21:49:36] INFO - crawler.py#crawl_daily:108: download GBPUSD,8h,2019-11-25T00:00:00.000000+00:00,2019-11-25T23:59:59.999999+00:00\n",
      "[2019/11/27 21:49:40] INFO - dbaccess.py#insert_ohlcv:66: insert_ohlcv() start. 4\n",
      "[2019/11/27 21:49:40] INFO - dbaccess.py#insert_ohlcv:84: insert_ohlcv() complete. 4\n",
      "[2019/11/27 21:49:40] INFO - crawler.py#crawl_daily:108: download GBPUSD,8h,2019-11-26T00:00:00.000000+00:00,2019-11-26T23:59:59.999999+00:00\n",
      "[2019/11/27 21:49:41] INFO - dbaccess.py#insert_ohlcv:66: insert_ohlcv() start. 2\n",
      "[2019/11/27 21:49:41] INFO - dbaccess.py#insert_ohlcv:84: insert_ohlcv() complete. 2\n",
      "[2019/11/27 21:49:41] INFO - crawler.py#crawl_daily:108: download GBPUSD,8h,2019-11-27T00:00:00.000000+00:00,2019-11-27T12:49:34.902385+00:00\n",
      "[2019/11/27 21:49:42] INFO - dbaccess.py#insert_ohlcv:66: insert_ohlcv() start. 1\n",
      "[2019/11/27 21:49:42] INFO - dbaccess.py#insert_ohlcv:84: insert_ohlcv() complete. 1\n",
      "[2019/11/27 21:49:42] INFO - crawler.py#crawl_daily:108: download GBPUSD,12h,2019-11-24T00:00:00.000000+00:00,2019-11-24T23:59:59.999999+00:00\n",
      "[2019/11/27 21:49:42] INFO - dbaccess.py#insert_ohlcv:66: insert_ohlcv() start. 3\n",
      "[2019/11/27 21:49:42] INFO - dbaccess.py#insert_ohlcv:84: insert_ohlcv() complete. 3\n",
      "[2019/11/27 21:49:42] INFO - crawler.py#crawl_daily:108: download GBPUSD,12h,2019-11-25T00:00:00.000000+00:00,2019-11-25T23:59:59.999999+00:00\n",
      "[2019/11/27 21:49:44] INFO - dbaccess.py#insert_ohlcv:66: insert_ohlcv() start. 3\n",
      "[2019/11/27 21:49:44] INFO - dbaccess.py#insert_ohlcv:84: insert_ohlcv() complete. 3\n",
      "[2019/11/27 21:49:44] INFO - crawler.py#crawl_daily:108: download GBPUSD,12h,2019-11-26T00:00:00.000000+00:00,2019-11-26T23:59:59.999999+00:00\n",
      "[2019/11/27 21:49:46] INFO - dbaccess.py#insert_ohlcv:66: insert_ohlcv() start. 2\n",
      "[2019/11/27 21:49:46] INFO - dbaccess.py#insert_ohlcv:84: insert_ohlcv() complete. 2\n",
      "[2019/11/27 21:49:46] INFO - crawler.py#crawl_daily:108: download GBPUSD,12h,2019-11-27T00:00:00.000000+00:00,2019-11-27T12:49:41.266858+00:00\n",
      "[2019/11/27 21:49:47] INFO - dbaccess.py#insert_ohlcv:66: insert_ohlcv() start. 1\n",
      "[2019/11/27 21:49:47] INFO - dbaccess.py#insert_ohlcv:84: insert_ohlcv() complete. 1\n",
      "[2019/11/27 21:49:47] INFO - crawler.py#crawl_daily:108: download GBPUSD,1d,2019-11-24T00:00:00.000000+00:00,2019-11-24T23:59:59.999999+00:00\n",
      "[2019/11/27 21:49:48] INFO - dbaccess.py#insert_ohlcv:66: insert_ohlcv() start. 2\n",
      "[2019/11/27 21:49:48] INFO - dbaccess.py#insert_ohlcv:84: insert_ohlcv() complete. 2\n",
      "[2019/11/27 21:49:48] INFO - crawler.py#crawl_daily:108: download GBPUSD,1d,2019-11-25T00:00:00.000000+00:00,2019-11-25T23:59:59.999999+00:00\n",
      "[2019/11/27 21:49:49] INFO - dbaccess.py#insert_ohlcv:66: insert_ohlcv() start. 2\n",
      "[2019/11/27 21:49:49] INFO - dbaccess.py#insert_ohlcv:84: insert_ohlcv() complete. 2\n",
      "[2019/11/27 21:49:49] INFO - crawler.py#crawl_daily:108: download GBPUSD,1d,2019-11-26T00:00:00.000000+00:00,2019-11-26T23:59:59.999999+00:00\n",
      "[2019/11/27 21:49:51] INFO - dbaccess.py#insert_ohlcv:66: insert_ohlcv() start. 1\n",
      "[2019/11/27 21:49:51] INFO - dbaccess.py#insert_ohlcv:84: insert_ohlcv() complete. 1\n",
      "[2019/11/27 21:49:51] INFO - crawler.py#crawl_daily:108: download GBPUSD,1d,2019-11-27T00:00:00.000000+00:00,2019-11-27T12:49:46.825311+00:00\n"
     ]
    }
   ],
   "source": [
    "!python3 ../crawler/crawler.py --symbol USDJPY,EURJPY,GBPJPY,EURUSD,GBPUSD"
   ]
  },
  {
   "cell_type": "code",
   "execution_count": null,
   "metadata": {},
   "outputs": [],
   "source": []
  },
  {
   "cell_type": "markdown",
   "metadata": {},
   "source": [
    "## yfinance stocks"
   ]
  },
  {
   "cell_type": "code",
   "execution_count": 3,
   "metadata": {},
   "outputs": [
    {
     "name": "stdout",
     "output_type": "stream",
     "text": [
      "[2019/11/27 21:51:57] INFO - crawler_yfinance.py#crawler:58: crawler_yfinance.crawler() start.\n",
      "[*********************100%***********************]  1 of 1 downloaded\n",
      "[2019/11/27 21:51:58] INFO - dbaccess.py#insert_ohlcv:66: insert_ohlcv() start. 331\n",
      "[2019/11/27 21:51:58] INFO - dbaccess.py#insert_ohlcv:84: insert_ohlcv() complete. 331\n",
      "[2019/11/27 21:51:58] INFO - crawler_yfinance.py#download:45: downloaded:[1321.T][2001-01-01-2019-11-28] [2010-10-29-2019-11-27]\n",
      "[*********************100%***********************]  1 of 1 downloaded\n",
      "[2019/11/27 21:51:59] INFO - dbaccess.py#insert_ohlcv:66: insert_ohlcv() start. 1365\n",
      "[2019/11/27 21:51:59] INFO - dbaccess.py#insert_ohlcv:84: insert_ohlcv() complete. 1365\n",
      "[2019/11/27 21:51:59] INFO - crawler_yfinance.py#download:45: downloaded:[1356.T][2001-01-01-2019-11-28] [2014-05-29-2019-11-27]\n",
      "[*********************100%***********************]  1 of 1 downloaded\n",
      "[2019/11/27 21:52:00] INFO - dbaccess.py#insert_ohlcv:66: insert_ohlcv() start. 1332\n",
      "[2019/11/27 21:52:00] INFO - dbaccess.py#insert_ohlcv:84: insert_ohlcv() complete. 1332\n",
      "[2019/11/27 21:52:00] INFO - crawler_yfinance.py#download:45: downloaded:[1357.T][2001-01-01-2019-11-28] [2014-07-16-2019-11-27]\n",
      "[*********************100%***********************]  1 of 1 downloaded\n",
      "[2019/11/27 21:52:01] INFO - dbaccess.py#insert_ohlcv:66: insert_ohlcv() start. 1891\n",
      "[2019/11/27 21:52:02] INFO - dbaccess.py#insert_ohlcv:84: insert_ohlcv() complete. 1891\n",
      "[2019/11/27 21:52:02] INFO - crawler_yfinance.py#download:45: downloaded:[1568.T][2001-01-01-2019-11-28] [2012-04-05-2019-11-27]\n",
      "[*********************100%***********************]  1 of 1 downloaded\n",
      "[2019/11/27 21:52:02] INFO - dbaccess.py#insert_ohlcv:66: insert_ohlcv() start. 454\n",
      "[2019/11/27 21:52:03] INFO - dbaccess.py#insert_ohlcv:84: insert_ohlcv() complete. 454\n",
      "[2019/11/27 21:52:03] INFO - crawler_yfinance.py#download:45: downloaded:[1570.T][2001-01-01-2019-11-28] [2012-04-12-2019-11-27]\n",
      "[*********************100%***********************]  1 of 1 downloaded\n",
      "[2019/11/27 21:52:03] INFO - dbaccess.py#insert_ohlcv:66: insert_ohlcv() start. 328\n",
      "[2019/11/27 21:52:03] INFO - dbaccess.py#insert_ohlcv:84: insert_ohlcv() complete. 328\n",
      "[2019/11/27 21:52:03] INFO - crawler_yfinance.py#download:45: downloaded:[1571.T][2001-01-01-2019-11-28] [2012-04-12-2019-11-27]\n",
      "[*********************100%***********************]  1 of 1 downloaded\n",
      "[2019/11/27 21:52:05] INFO - dbaccess.py#insert_ohlcv:66: insert_ohlcv() start. 4631\n",
      "[2019/11/27 21:52:06] INFO - dbaccess.py#insert_ohlcv:84: insert_ohlcv() complete. 4631\n",
      "[2019/11/27 21:52:06] INFO - crawler_yfinance.py#download:45: downloaded:[6141.T][2001-01-01-2019-11-28] [2001-01-04-2019-11-27]\n",
      "[*********************100%***********************]  1 of 1 downloaded\n",
      "[2019/11/27 21:52:07] INFO - dbaccess.py#insert_ohlcv:66: insert_ohlcv() start. 4742\n",
      "[2019/11/27 21:52:08] INFO - dbaccess.py#insert_ohlcv:84: insert_ohlcv() complete. 4742\n",
      "[2019/11/27 21:52:08] INFO - crawler_yfinance.py#download:45: downloaded:[6753.T][2001-01-01-2019-11-28] [2001-01-01-2019-11-27]\n",
      "[*********************100%***********************]  1 of 1 downloaded\n",
      "[2019/11/27 21:52:10] INFO - dbaccess.py#insert_ohlcv:66: insert_ohlcv() start. 4742\n",
      "[2019/11/27 21:52:11] INFO - dbaccess.py#insert_ohlcv:84: insert_ohlcv() complete. 4742\n",
      "[2019/11/27 21:52:11] INFO - crawler_yfinance.py#download:45: downloaded:[9104.T][2001-01-01-2019-11-28] [2001-01-01-2019-11-27]\n",
      "[*********************100%***********************]  1 of 1 downloaded\n",
      "[2019/11/27 21:52:12] INFO - dbaccess.py#insert_ohlcv:66: insert_ohlcv() start. 4742\n",
      "[2019/11/27 21:52:13] INFO - dbaccess.py#insert_ohlcv:84: insert_ohlcv() complete. 4742\n",
      "[2019/11/27 21:52:13] INFO - crawler_yfinance.py#download:45: downloaded:[9107.T][2001-01-01-2019-11-28] [2001-01-01-2019-11-27]\n",
      "[*********************100%***********************]  1 of 1 downloaded\n",
      "[2019/11/27 21:52:14] INFO - dbaccess.py#insert_ohlcv:66: insert_ohlcv() start. 4634\n",
      "[2019/11/27 21:52:15] INFO - dbaccess.py#insert_ohlcv:84: insert_ohlcv() complete. 4634\n",
      "[2019/11/27 21:52:15] INFO - crawler_yfinance.py#download:45: downloaded:[^N225][2001-01-01-2019-11-28] [2001-01-04-2019-11-27]\n",
      "[2019/11/27 21:52:15] INFO - crawler_yfinance.py#crawler:60: crawler_yfinance.crawler() end.\n"
     ]
    }
   ],
   "source": [
    "!python3 ../crawler/crawler_yfinance.py"
   ]
  },
  {
   "cell_type": "code",
   "execution_count": 1,
   "metadata": {},
   "outputs": [],
   "source": [
    "from donkatsu.dbinfo import DbInfo"
   ]
  },
  {
   "cell_type": "code",
   "execution_count": 2,
   "metadata": {},
   "outputs": [
    {
     "data": {
      "text/plain": [
       "'Connected: postgres@donkatsu'"
      ]
     },
     "execution_count": 2,
     "metadata": {},
     "output_type": "execute_result"
    }
   ],
   "source": [
    "%load_ext sql\n",
    "dsl = f\"postgres://{DbInfo.USER_NAME}:{DbInfo.PASSWORD}@{DbInfo.HOSTNAME}:{DbInfo.PORT}/{DbInfo.DATABASE}\"\n",
    "%sql $dsl"
   ]
  },
  {
   "cell_type": "code",
   "execution_count": 1,
   "metadata": {},
   "outputs": [
    {
     "name": "stderr",
     "output_type": "stream",
     "text": [
      "UsageError: Cell magic `%%sql` not found.\n"
     ]
    }
   ],
   "source": [
    "%%sql\n",
    "delete from ohlcv where symbol = '1570.T' and date(time) < '2018-03-19'\n"
   ]
  },
  {
   "cell_type": "code",
   "execution_count": null,
   "metadata": {},
   "outputs": [],
   "source": []
  },
  {
   "cell_type": "markdown",
   "metadata": {},
   "source": [
    "# TOPIX-17 nomura"
   ]
  },
  {
   "cell_type": "code",
   "execution_count": 2,
   "metadata": {},
   "outputs": [],
   "source": [
    "from donkatsu.symbol.topix17etf_nomura import Symbol\n",
    "symbols_arg = \",\".join(Symbol.symbols)"
   ]
  },
  {
   "cell_type": "code",
   "execution_count": 9,
   "metadata": {},
   "outputs": [
    {
     "name": "stdout",
     "output_type": "stream",
     "text": [
      "[2019/12/11 23:18:10] INFO - crawler_yfinance.py#crawler:58: crawler_yfinance.crawler() start.\n",
      "[*********************100%***********************]  1 of 1 completed\n",
      "[2019/12/11 23:18:10] INFO - dbaccess.py#insert_ohlcv:66: insert_ohlcv() start. 2583\n",
      "[2019/12/11 23:18:11] INFO - dbaccess.py#insert_ohlcv:84: insert_ohlcv() complete. 2583\n",
      "[2019/12/11 23:18:11] INFO - crawler_yfinance.py#download:45: downloaded:[1617.T][1980-01-01-2019-12-31] [2008-03-25-2019-12-10]\n",
      "[*********************100%***********************]  1 of 1 completed\n",
      "[2019/12/11 23:18:12] INFO - dbaccess.py#insert_ohlcv:66: insert_ohlcv() start. 2866\n",
      "[2019/12/11 23:18:12] INFO - dbaccess.py#insert_ohlcv:84: insert_ohlcv() complete. 2866\n",
      "[2019/12/11 23:18:12] INFO - crawler_yfinance.py#download:45: downloaded:[1618.T][1980-01-01-2019-12-31] [2008-03-25-2019-12-11]\n",
      "[*********************100%***********************]  1 of 1 completed\n",
      "[2019/12/11 23:18:13] INFO - dbaccess.py#insert_ohlcv:66: insert_ohlcv() start. 2613\n",
      "[2019/12/11 23:18:14] INFO - dbaccess.py#insert_ohlcv:84: insert_ohlcv() complete. 2613\n",
      "[2019/12/11 23:18:14] INFO - crawler_yfinance.py#download:45: downloaded:[1619.T][1980-01-01-2019-12-31] [2008-03-25-2019-12-11]\n",
      "[*********************100%***********************]  1 of 1 completed\n",
      "[2019/12/11 23:18:14] INFO - dbaccess.py#insert_ohlcv:66: insert_ohlcv() start. 2546\n",
      "[2019/12/11 23:18:15] INFO - dbaccess.py#insert_ohlcv:84: insert_ohlcv() complete. 2546\n",
      "[2019/12/11 23:18:15] INFO - crawler_yfinance.py#download:45: downloaded:[1620.T][1980-01-01-2019-12-31] [2008-03-25-2019-12-11]\n",
      "[*********************100%***********************]  1 of 1 completed\n",
      "[2019/12/11 23:18:16] INFO - dbaccess.py#insert_ohlcv:66: insert_ohlcv() start. 2871\n",
      "[2019/12/11 23:18:16] INFO - dbaccess.py#insert_ohlcv:84: insert_ohlcv() complete. 2871\n",
      "[2019/12/11 23:18:16] INFO - crawler_yfinance.py#download:45: downloaded:[1621.T][1980-01-01-2019-12-31] [2008-03-25-2019-12-11]\n",
      "[*********************100%***********************]  1 of 1 completed\n",
      "[2019/12/11 23:18:17] INFO - dbaccess.py#insert_ohlcv:66: insert_ohlcv() start. 2841\n",
      "[2019/12/11 23:18:18] INFO - dbaccess.py#insert_ohlcv:84: insert_ohlcv() complete. 2841\n",
      "[2019/12/11 23:18:18] INFO - crawler_yfinance.py#download:45: downloaded:[1622.T][1980-01-01-2019-12-31] [2008-03-25-2019-12-11]\n",
      "[*********************100%***********************]  1 of 1 completed\n",
      "[2019/12/11 23:18:18] INFO - dbaccess.py#insert_ohlcv:66: insert_ohlcv() start. 2590\n",
      "[2019/12/11 23:18:19] INFO - dbaccess.py#insert_ohlcv:84: insert_ohlcv() complete. 2590\n",
      "[2019/12/11 23:18:19] INFO - crawler_yfinance.py#download:45: downloaded:[1623.T][1980-01-01-2019-12-31] [2008-03-25-2019-12-11]\n",
      "[*********************100%***********************]  1 of 1 completed\n",
      "[2019/12/11 23:18:19] INFO - dbaccess.py#insert_ohlcv:66: insert_ohlcv() start. 2486\n",
      "[2019/12/11 23:18:20] INFO - dbaccess.py#insert_ohlcv:84: insert_ohlcv() complete. 2486\n",
      "[2019/12/11 23:18:20] INFO - crawler_yfinance.py#download:45: downloaded:[1624.T][1980-01-01-2019-12-31] [2008-03-25-2019-12-10]\n",
      "[*********************100%***********************]  1 of 1 completed\n",
      "[2019/12/11 23:18:21] INFO - dbaccess.py#insert_ohlcv:66: insert_ohlcv() start. 2690\n",
      "[2019/12/11 23:18:21] INFO - dbaccess.py#insert_ohlcv:84: insert_ohlcv() complete. 2690\n",
      "[2019/12/11 23:18:21] INFO - crawler_yfinance.py#download:45: downloaded:[1625.T][1980-01-01-2019-12-31] [2008-03-25-2019-12-11]\n",
      "[*********************100%***********************]  1 of 1 completed\n",
      "[2019/12/11 23:18:22] INFO - dbaccess.py#insert_ohlcv:66: insert_ohlcv() start. 2529\n",
      "[2019/12/11 23:18:22] INFO - dbaccess.py#insert_ohlcv:84: insert_ohlcv() complete. 2529\n",
      "[2019/12/11 23:18:22] INFO - crawler_yfinance.py#download:45: downloaded:[1626.T][1980-01-01-2019-12-31] [2008-03-25-2019-12-11]\n",
      "[*********************100%***********************]  1 of 1 completed\n",
      "[2019/12/11 23:18:23] INFO - dbaccess.py#insert_ohlcv:66: insert_ohlcv() start. 2875\n",
      "[2019/12/11 23:18:24] INFO - dbaccess.py#insert_ohlcv:84: insert_ohlcv() complete. 2875\n",
      "[2019/12/11 23:18:24] INFO - crawler_yfinance.py#download:45: downloaded:[1627.T][1980-01-01-2019-12-31] [2008-03-25-2019-12-11]\n",
      "[*********************100%***********************]  1 of 1 completed\n",
      "[2019/12/11 23:18:25] INFO - dbaccess.py#insert_ohlcv:66: insert_ohlcv() start. 2325\n",
      "[2019/12/11 23:18:25] INFO - dbaccess.py#insert_ohlcv:84: insert_ohlcv() complete. 2325\n",
      "[2019/12/11 23:18:25] INFO - crawler_yfinance.py#download:45: downloaded:[1628.T][1980-01-01-2019-12-31] [2008-03-25-2019-12-11]\n",
      "[*********************100%***********************]  1 of 1 completed\n",
      "[2019/12/11 23:18:26] INFO - dbaccess.py#insert_ohlcv:66: insert_ohlcv() start. 2769\n",
      "[2019/12/11 23:18:26] INFO - dbaccess.py#insert_ohlcv:84: insert_ohlcv() complete. 2769\n",
      "[2019/12/11 23:18:26] INFO - crawler_yfinance.py#download:45: downloaded:[1629.T][1980-01-01-2019-12-31] [2008-03-25-2019-12-10]\n",
      "[*********************100%***********************]  1 of 1 completed\n",
      "[2019/12/11 23:18:27] INFO - dbaccess.py#insert_ohlcv:66: insert_ohlcv() start. 2216\n",
      "[2019/12/11 23:18:27] INFO - dbaccess.py#insert_ohlcv:84: insert_ohlcv() complete. 2216\n",
      "[2019/12/11 23:18:27] INFO - crawler_yfinance.py#download:45: downloaded:[1630.T][1980-01-01-2019-12-31] [2008-03-25-2019-12-11]\n",
      "[*********************100%***********************]  1 of 1 completed\n",
      "[2019/12/11 23:18:28] INFO - dbaccess.py#insert_ohlcv:66: insert_ohlcv() start. 2868\n",
      "[2019/12/11 23:18:29] INFO - dbaccess.py#insert_ohlcv:84: insert_ohlcv() complete. 2868\n",
      "[2019/12/11 23:18:29] INFO - crawler_yfinance.py#download:45: downloaded:[1631.T][1980-01-01-2019-12-31] [2008-03-25-2019-12-11]\n",
      "[*********************100%***********************]  1 of 1 completed\n",
      "[2019/12/11 23:18:29] INFO - dbaccess.py#insert_ohlcv:66: insert_ohlcv() start. 2774\n",
      "[2019/12/11 23:18:30] INFO - dbaccess.py#insert_ohlcv:84: insert_ohlcv() complete. 2774\n",
      "[2019/12/11 23:18:30] INFO - crawler_yfinance.py#download:45: downloaded:[1632.T][1980-01-01-2019-12-31] [2008-03-25-2019-12-11]\n",
      "[*********************100%***********************]  1 of 1 completed\n",
      "[2019/12/11 23:18:31] INFO - dbaccess.py#insert_ohlcv:66: insert_ohlcv() start. 2867\n",
      "[2019/12/11 23:18:31] INFO - dbaccess.py#insert_ohlcv:84: insert_ohlcv() complete. 2867\n",
      "[2019/12/11 23:18:31] INFO - crawler_yfinance.py#download:45: downloaded:[1633.T][1980-01-01-2019-12-31] [2008-03-25-2019-12-10]\n",
      "[2019/12/11 23:18:31] INFO - crawler_yfinance.py#crawler:60: crawler_yfinance.crawler() end.\n"
     ]
    }
   ],
   "source": [
    "!python3 ../crawler/crawler_yfinance.py --symbol {symbols_arg} --start_date 1980-01-01 --end_date 2019-12-31"
   ]
  },
  {
   "cell_type": "code",
   "execution_count": null,
   "metadata": {},
   "outputs": [],
   "source": []
  },
  {
   "cell_type": "markdown",
   "metadata": {},
   "source": [
    "# TOPIX-17 daiwa"
   ]
  },
  {
   "cell_type": "code",
   "execution_count": 11,
   "metadata": {},
   "outputs": [],
   "source": [
    "from donkatsu.symbol.topix17etf_daiwa import Symbol\n",
    "symbols_arg = \",\".join(Symbol.symbols)"
   ]
  },
  {
   "cell_type": "code",
   "execution_count": 12,
   "metadata": {},
   "outputs": [
    {
     "name": "stdout",
     "output_type": "stream",
     "text": [
      "[2019/12/11 23:19:34] INFO - crawler_yfinance.py#crawler:58: crawler_yfinance.crawler() start.\n",
      "[*********************100%***********************]  1 of 1 completed\n",
      "[2019/12/11 23:19:34] INFO - dbaccess.py#insert_ohlcv:66: insert_ohlcv() start. 1298\n",
      "[2019/12/11 23:19:35] INFO - dbaccess.py#insert_ohlcv:84: insert_ohlcv() complete. 1298\n",
      "[2019/12/11 23:19:35] INFO - crawler_yfinance.py#download:45: downloaded:[1634.T][1980-01-01-2019-12-31] [2008-07-23-2019-12-10]\n",
      "[*********************100%***********************]  1 of 1 completed\n",
      "[2019/12/11 23:19:35] INFO - dbaccess.py#insert_ohlcv:66: insert_ohlcv() start. 1682\n",
      "[2019/12/11 23:19:36] INFO - dbaccess.py#insert_ohlcv:84: insert_ohlcv() complete. 1682\n",
      "[2019/12/11 23:19:36] INFO - crawler_yfinance.py#download:45: downloaded:[1635.T][1980-01-01-2019-12-31] [2008-07-23-2019-12-11]\n",
      "[*********************100%***********************]  1 of 1 completed\n",
      "[2019/12/11 23:19:36] INFO - dbaccess.py#insert_ohlcv:66: insert_ohlcv() start. 1641\n",
      "[2019/12/11 23:19:37] INFO - dbaccess.py#insert_ohlcv:84: insert_ohlcv() complete. 1641\n",
      "[2019/12/11 23:19:37] INFO - crawler_yfinance.py#download:45: downloaded:[1636.T][1980-01-01-2019-12-31] [2008-07-23-2019-12-11]\n",
      "[*********************100%***********************]  1 of 1 completed\n",
      "[2019/12/11 23:19:37] INFO - dbaccess.py#insert_ohlcv:66: insert_ohlcv() start. 1199\n",
      "[2019/12/11 23:19:38] INFO - dbaccess.py#insert_ohlcv:84: insert_ohlcv() complete. 1199\n",
      "[2019/12/11 23:19:38] INFO - crawler_yfinance.py#download:45: downloaded:[1637.T][1980-01-01-2019-12-31] [2008-07-23-2019-12-10]\n",
      "[*********************100%***********************]  1 of 1 completed\n",
      "[2019/12/11 23:19:38] INFO - dbaccess.py#insert_ohlcv:66: insert_ohlcv() start. 2114\n",
      "[2019/12/11 23:19:39] INFO - dbaccess.py#insert_ohlcv:84: insert_ohlcv() complete. 2114\n",
      "[2019/12/11 23:19:39] INFO - crawler_yfinance.py#download:45: downloaded:[1638.T][1980-01-01-2019-12-31] [2008-07-23-2019-12-11]\n",
      "[*********************100%***********************]  1 of 1 completed\n",
      "[2019/12/11 23:19:39] INFO - dbaccess.py#insert_ohlcv:66: insert_ohlcv() start. 1621\n",
      "[2019/12/11 23:19:40] INFO - dbaccess.py#insert_ohlcv:84: insert_ohlcv() complete. 1621\n",
      "[2019/12/11 23:19:40] INFO - crawler_yfinance.py#download:45: downloaded:[1639.T][1980-01-01-2019-12-31] [2008-07-23-2019-12-10]\n",
      "[*********************100%***********************]  1 of 1 completed\n",
      "[2019/12/11 23:19:40] INFO - dbaccess.py#insert_ohlcv:66: insert_ohlcv() start. 1275\n",
      "[2019/12/11 23:19:40] INFO - dbaccess.py#insert_ohlcv:84: insert_ohlcv() complete. 1275\n",
      "[2019/12/11 23:19:40] INFO - crawler_yfinance.py#download:45: downloaded:[1640.T][1980-01-01-2019-12-31] [2008-07-23-2019-12-11]\n",
      "[*********************100%***********************]  1 of 1 completed\n",
      "[2019/12/11 23:19:41] INFO - dbaccess.py#insert_ohlcv:66: insert_ohlcv() start. 1163\n",
      "[2019/12/11 23:19:41] INFO - dbaccess.py#insert_ohlcv:84: insert_ohlcv() complete. 1163\n",
      "[2019/12/11 23:19:41] INFO - crawler_yfinance.py#download:45: downloaded:[1641.T][1980-01-01-2019-12-31] [2008-07-23-2019-12-11]\n",
      "[*********************100%***********************]  1 of 1 completed\n",
      "[2019/12/11 23:19:42] INFO - dbaccess.py#insert_ohlcv:66: insert_ohlcv() start. 1310\n",
      "[2019/12/11 23:19:42] INFO - dbaccess.py#insert_ohlcv:84: insert_ohlcv() complete. 1310\n",
      "[2019/12/11 23:19:42] INFO - crawler_yfinance.py#download:45: downloaded:[1642.T][1980-01-01-2019-12-31] [2008-07-23-2019-12-10]\n",
      "[*********************100%***********************]  1 of 1 completed\n",
      "[2019/12/11 23:19:43] INFO - dbaccess.py#insert_ohlcv:66: insert_ohlcv() start. 1255\n",
      "[2019/12/11 23:19:43] INFO - dbaccess.py#insert_ohlcv:84: insert_ohlcv() complete. 1255\n",
      "[2019/12/11 23:19:43] INFO - crawler_yfinance.py#download:45: downloaded:[1643.T][1980-01-01-2019-12-31] [2008-07-23-2019-12-11]\n",
      "[*********************100%***********************]  1 of 1 completed\n",
      "[2019/12/11 23:19:44] INFO - dbaccess.py#insert_ohlcv:66: insert_ohlcv() start. 2058\n",
      "[2019/12/11 23:19:44] INFO - dbaccess.py#insert_ohlcv:84: insert_ohlcv() complete. 2058\n",
      "[2019/12/11 23:19:44] INFO - crawler_yfinance.py#download:45: downloaded:[1644.T][1980-01-01-2019-12-31] [2008-07-23-2019-12-10]\n",
      "[*********************100%***********************]  1 of 1 completed\n",
      "[2019/12/11 23:19:45] INFO - dbaccess.py#insert_ohlcv:66: insert_ohlcv() start. 1269\n",
      "[2019/12/11 23:19:45] INFO - dbaccess.py#insert_ohlcv:84: insert_ohlcv() complete. 1269\n",
      "[2019/12/11 23:19:45] INFO - crawler_yfinance.py#download:45: downloaded:[1645.T][1980-01-01-2019-12-31] [2008-07-23-2019-12-10]\n",
      "[*********************100%***********************]  1 of 1 completed\n",
      "[2019/12/11 23:19:45] INFO - dbaccess.py#insert_ohlcv:66: insert_ohlcv() start. 1367\n",
      "[2019/12/11 23:19:46] INFO - dbaccess.py#insert_ohlcv:84: insert_ohlcv() complete. 1367\n",
      "[2019/12/11 23:19:46] INFO - crawler_yfinance.py#download:45: downloaded:[1646.T][1980-01-01-2019-12-31] [2008-07-23-2019-12-11]\n",
      "[*********************100%***********************]  1 of 1 completed\n",
      "[2019/12/11 23:19:47] INFO - dbaccess.py#insert_ohlcv:66: insert_ohlcv() start. 1119\n",
      "[2019/12/11 23:19:47] INFO - dbaccess.py#insert_ohlcv:84: insert_ohlcv() complete. 1119\n",
      "[2019/12/11 23:19:47] INFO - crawler_yfinance.py#download:45: downloaded:[1647.T][1980-01-01-2019-12-31] [2008-07-23-2019-12-10]\n",
      "[*********************100%***********************]  1 of 1 completed\n",
      "[2019/12/11 23:19:48] INFO - dbaccess.py#insert_ohlcv:66: insert_ohlcv() start. 1859\n",
      "[2019/12/11 23:19:48] INFO - dbaccess.py#insert_ohlcv:84: insert_ohlcv() complete. 1859\n",
      "[2019/12/11 23:19:48] INFO - crawler_yfinance.py#download:45: downloaded:[1648.T][1980-01-01-2019-12-31] [2008-07-23-2019-12-11]\n",
      "[*********************100%***********************]  1 of 1 completed\n",
      "[2019/12/11 23:19:49] INFO - dbaccess.py#insert_ohlcv:66: insert_ohlcv() start. 1570\n",
      "[2019/12/11 23:19:50] INFO - dbaccess.py#insert_ohlcv:84: insert_ohlcv() complete. 1570\n",
      "[2019/12/11 23:19:50] INFO - crawler_yfinance.py#download:45: downloaded:[1649.T][1980-01-01-2019-12-31] [2008-07-23-2019-12-10]\n",
      "[*********************100%***********************]  1 of 1 completed\n",
      "[2019/12/11 23:19:50] INFO - dbaccess.py#insert_ohlcv:66: insert_ohlcv() start. 1705\n",
      "[2019/12/11 23:19:51] INFO - dbaccess.py#insert_ohlcv:84: insert_ohlcv() complete. 1705\n",
      "[2019/12/11 23:19:51] INFO - crawler_yfinance.py#download:45: downloaded:[1650.T][1980-01-01-2019-12-31] [2008-07-23-2019-12-11]\n",
      "[2019/12/11 23:19:51] INFO - crawler_yfinance.py#crawler:60: crawler_yfinance.crawler() end.\n"
     ]
    }
   ],
   "source": [
    "!python3 ../crawler/crawler_yfinance.py --symbol {symbols_arg} --start_date 1980-01-01 --end_date 2019-12-31"
   ]
  },
  {
   "cell_type": "code",
   "execution_count": null,
   "metadata": {},
   "outputs": [],
   "source": []
  },
  {
   "cell_type": "code",
   "execution_count": null,
   "metadata": {},
   "outputs": [],
   "source": []
  },
  {
   "cell_type": "markdown",
   "metadata": {},
   "source": [
    "## Futures N225mini excel"
   ]
  },
  {
   "cell_type": "code",
   "execution_count": 1,
   "metadata": {
    "scrolled": true
   },
   "outputs": [
    {
     "name": "stdout",
     "output_type": "stream",
     "text": [
      "[2019/11/28 23:17:56] INFO - excel_n225mini.py#read_all_sheet:16: read_all_sheet() start. N225mini,../crawler/n225/N225minif_2019.xlsx\n",
      "[2019/11/28 23:17:56] INFO - excel_n225mini.py#read_sheet:56: read_sheet() start. N225mini,../crawler/n225/N225minif_2019.xlsx,0,1m\n",
      "[2019/11/28 23:20:36] INFO - excel_n225mini.py#read_sheet:92: read_sheet() finish. N225mini,1m,256668,2019-01-03 16:30:00,2019-11-28 15:15:00\n",
      "[2019/11/28 23:20:36] INFO - dbaccess.py#insert_ohlcv:66: insert_ohlcv() start. 256668\n",
      "[2019/11/28 23:23:03] INFO - dbaccess.py#insert_ohlcv:84: insert_ohlcv() complete. 256668\n",
      "[2019/11/28 23:23:04] INFO - excel_n225mini.py#read_sheet:56: read_sheet() start. N225mini,../crawler/n225/N225minif_2019.xlsx,1,3m\n",
      "[2019/11/28 23:24:41] INFO - excel_n225mini.py#read_sheet:92: read_sheet() finish. N225mini,3m,85848,2019-01-03 16:30:00,2019-11-28 15:15:00\n",
      "[2019/11/28 23:24:41] INFO - dbaccess.py#insert_ohlcv:66: insert_ohlcv() start. 85848\n",
      "[2019/11/28 23:25:42] INFO - dbaccess.py#insert_ohlcv:84: insert_ohlcv() complete. 85848\n",
      "[2019/11/28 23:25:42] INFO - excel_n225mini.py#read_sheet:56: read_sheet() start. N225mini,../crawler/n225/N225minif_2019.xlsx,2,5m\n",
      "[2019/11/28 23:27:08] INFO - excel_n225mini.py#read_sheet:92: read_sheet() finish. N225mini,5m,51684,2019-01-03 16:30:00,2019-11-28 15:15:00\n",
      "[2019/11/28 23:27:08] INFO - dbaccess.py#insert_ohlcv:66: insert_ohlcv() start. 51684\n",
      "[2019/11/28 23:27:40] INFO - dbaccess.py#insert_ohlcv:84: insert_ohlcv() complete. 51684\n",
      "[2019/11/28 23:27:40] INFO - excel_n225mini.py#read_sheet:56: read_sheet() start. N225mini,../crawler/n225/N225minif_2019.xlsx,3,10m\n",
      "[2019/11/28 23:28:59] INFO - excel_n225mini.py#read_sheet:92: read_sheet() finish. N225mini,10m,26061,2019-01-03 16:30:00,2019-11-28 15:10:00\n",
      "[2019/11/28 23:28:59] INFO - dbaccess.py#insert_ohlcv:66: insert_ohlcv() start. 26061\n",
      "[2019/11/28 23:29:15] INFO - dbaccess.py#insert_ohlcv:84: insert_ohlcv() complete. 26061\n",
      "[2019/11/28 23:29:15] INFO - excel_n225mini.py#read_sheet:56: read_sheet() start. N225mini,../crawler/n225/N225minif_2019.xlsx,4,15m\n",
      "[2019/11/28 23:30:33] INFO - excel_n225mini.py#read_sheet:92: read_sheet() finish. N225mini,15m,17520,2019-01-03 16:30:00,2019-11-28 15:15:00\n",
      "[2019/11/28 23:30:33] INFO - dbaccess.py#insert_ohlcv:66: insert_ohlcv() start. 17520\n",
      "[2019/11/28 23:30:44] INFO - dbaccess.py#insert_ohlcv:84: insert_ohlcv() complete. 17520\n",
      "[2019/11/28 23:30:44] INFO - excel_n225mini.py#read_sheet:56: read_sheet() start. N225mini,../crawler/n225/N225minif_2019.xlsx,5,20m\n",
      "[2019/11/28 23:31:56] INFO - excel_n225mini.py#read_sheet:92: read_sheet() finish. N225mini,20m,13140,2019-01-03 16:30:00,2019-11-28 15:00:00\n",
      "[2019/11/28 23:31:56] INFO - dbaccess.py#insert_ohlcv:66: insert_ohlcv() start. 13140\n",
      "[2019/11/28 23:32:03] INFO - dbaccess.py#insert_ohlcv:84: insert_ohlcv() complete. 13140\n",
      "[2019/11/28 23:32:03] INFO - excel_n225mini.py#read_sheet:56: read_sheet() start. N225mini,../crawler/n225/N225minif_2019.xlsx,6,30m\n",
      "[2019/11/28 23:33:16] INFO - excel_n225mini.py#read_sheet:92: read_sheet() finish. N225mini,30m,8979,2019-01-03 16:30:00,2019-11-28 15:00:00\n",
      "[2019/11/28 23:33:16] INFO - dbaccess.py#insert_ohlcv:66: insert_ohlcv() start. 8979\n",
      "[2019/11/28 23:33:21] INFO - dbaccess.py#insert_ohlcv:84: insert_ohlcv() complete. 8979\n",
      "[2019/11/28 23:33:21] INFO - excel_n225mini.py#read_sheet:56: read_sheet() start. N225mini,../crawler/n225/N225minif_2019.xlsx,7,60m\n",
      "[2019/11/28 23:34:33] INFO - excel_n225mini.py#read_sheet:92: read_sheet() finish. N225mini,60m,4818,2019-01-03 16:30:00,2019-11-28 15:00:00\n",
      "[2019/11/28 23:34:33] INFO - dbaccess.py#insert_ohlcv:66: insert_ohlcv() start. 4818\n",
      "[2019/11/28 23:34:36] INFO - dbaccess.py#insert_ohlcv:84: insert_ohlcv() complete. 4818\n",
      "[2019/11/28 23:34:36] INFO - excel_n225mini.py#read_sheet:56: read_sheet() start. N225mini,../crawler/n225/N225minif_2019.xlsx,8,1d\n",
      "[2019/11/28 23:35:47] INFO - excel_n225mini.py#read_sheet:92: read_sheet() finish. N225mini,1d,3275,2006-07-18,2019-11-28\n",
      "[2019/11/28 23:35:47] INFO - dbaccess.py#insert_ohlcv:66: insert_ohlcv() start. 3275\n",
      "[2019/11/28 23:35:49] INFO - dbaccess.py#insert_ohlcv:84: insert_ohlcv() complete. 3275\n",
      "[2019/11/28 23:35:49] INFO - excel_n225mini.py#read_sheet:56: read_sheet() start. N225mini,../crawler/n225/N225minif_2019.xlsx,9,1d_n\n",
      "[2019/11/28 23:36:59] INFO - excel_n225mini.py#read_sheet:92: read_sheet() finish. N225mini,1d_n,2979,2007-09-19,2019-11-28\n",
      "[2019/11/28 23:36:59] INFO - dbaccess.py#insert_ohlcv:66: insert_ohlcv() start. 2979\n",
      "[2019/11/28 23:37:01] INFO - dbaccess.py#insert_ohlcv:84: insert_ohlcv() complete. 2979\n",
      "[2019/11/28 23:37:01] INFO - excel_n225mini.py#read_sheet:56: read_sheet() start. N225mini,../crawler/n225/N225minif_2019.xlsx,10,1d_a\n",
      "[2019/11/28 23:38:11] INFO - excel_n225mini.py#read_sheet:92: read_sheet() finish. N225mini,1d_a,3274,2006-07-18,2019-11-27\n",
      "[2019/11/28 23:38:11] INFO - dbaccess.py#insert_ohlcv:66: insert_ohlcv() start. 3274\n",
      "[2019/11/28 23:38:13] INFO - dbaccess.py#insert_ohlcv:84: insert_ohlcv() complete. 3274\n",
      "[2019/11/28 23:38:13] INFO - excel_n225mini.py#read_sheet:56: read_sheet() start. N225mini,../crawler/n225/N225minif_2019.xlsx,10,1d_t\n",
      "[2019/11/28 23:39:24] INFO - excel_n225mini.py#read_sheet:92: read_sheet() finish. N225mini,1d_t,3274,2006-07-18,2019-11-27\n",
      "[2019/11/28 23:39:24] INFO - dbaccess.py#insert_ohlcv:66: insert_ohlcv() start. 3274\n",
      "[2019/11/28 23:39:26] INFO - dbaccess.py#insert_ohlcv:84: insert_ohlcv() complete. 3274\n",
      "[2019/11/28 23:39:26] INFO - excel_n225mini.py#read_all_sheet:53: read_excel_all_sheet() end.\n"
     ]
    }
   ],
   "source": [
    "!python3 ../crawler/excel_n225mini.py --file ../crawler/n225/N225minif_2019.xlsx"
   ]
  },
  {
   "cell_type": "markdown",
   "metadata": {},
   "source": [
    "### 2018以前"
   ]
  },
  {
   "cell_type": "code",
   "execution_count": 2,
   "metadata": {},
   "outputs": [
    {
     "name": "stdout",
     "output_type": "stream",
     "text": [
      "[2019/11/28 23:39:28] INFO - excel_n225mini.py#read_all_sheet:16: read_all_sheet() start. N225mini,../crawler/n225/225mini2006d.xlsx\n",
      "[2019/11/28 23:39:28] INFO - excel_n225mini.py#read_sheet:56: read_sheet() start. N225mini,../crawler/n225/225mini2006d.xlsx,0,1m\n",
      "[2019/11/28 23:39:28] ERROR - excel_n225mini.py#<module>:111: [Errno 2] No such file or directory: '../crawler/n225/225mini2006d.xlsx'\n"
     ]
    }
   ],
   "source": [
    "!python3 ../crawler/excel_n225mini.py --file ../crawler/n225/225mini2006d.xlsx"
   ]
  },
  {
   "cell_type": "code",
   "execution_count": 3,
   "metadata": {},
   "outputs": [
    {
     "name": "stdout",
     "output_type": "stream",
     "text": [
      "[2019/11/28 23:39:29] INFO - excel_n225mini.py#read_all_sheet:16: read_all_sheet() start. N225mini,../crawler/n225/225mini2007d.xlsx\n",
      "[2019/11/28 23:39:29] INFO - excel_n225mini.py#read_sheet:56: read_sheet() start. N225mini,../crawler/n225/225mini2007d.xlsx,0,1m\n",
      "[2019/11/28 23:39:29] ERROR - excel_n225mini.py#<module>:111: [Errno 2] No such file or directory: '../crawler/n225/225mini2007d.xlsx'\n"
     ]
    }
   ],
   "source": [
    "!python3 ../crawler/excel_n225mini.py --file ../crawler/n225/225mini2007d.xlsx"
   ]
  },
  {
   "cell_type": "code",
   "execution_count": 4,
   "metadata": {},
   "outputs": [
    {
     "name": "stdout",
     "output_type": "stream",
     "text": [
      "[2019/11/28 23:39:30] INFO - excel_n225mini.py#read_all_sheet:16: read_all_sheet() start. N225mini,../crawler/n225/225mini2008d.xlsx\r\n",
      "[2019/11/28 23:39:30] INFO - excel_n225mini.py#read_sheet:56: read_sheet() start. N225mini,../crawler/n225/225mini2008d.xlsx,0,1m\r\n",
      "[2019/11/28 23:39:30] ERROR - excel_n225mini.py#<module>:111: [Errno 2] No such file or directory: '../crawler/n225/225mini2008d.xlsx'\r\n"
     ]
    }
   ],
   "source": [
    "!python3 ../crawler/excel_n225mini.py --file ../crawler/n225/225mini2008d.xlsx"
   ]
  },
  {
   "cell_type": "code",
   "execution_count": 5,
   "metadata": {},
   "outputs": [
    {
     "name": "stdout",
     "output_type": "stream",
     "text": [
      "[2019/11/28 23:39:31] INFO - excel_n225mini.py#read_all_sheet:16: read_all_sheet() start. N225mini,../crawler/n225/225mini2009d.xlsx\r\n",
      "[2019/11/28 23:39:31] INFO - excel_n225mini.py#read_sheet:56: read_sheet() start. N225mini,../crawler/n225/225mini2009d.xlsx,0,1m\r\n",
      "[2019/11/28 23:39:31] ERROR - excel_n225mini.py#<module>:111: [Errno 2] No such file or directory: '../crawler/n225/225mini2009d.xlsx'\r\n"
     ]
    }
   ],
   "source": [
    "!python3 ../crawler/excel_n225mini.py --file ../crawler/n225/225mini2009d.xlsx"
   ]
  },
  {
   "cell_type": "code",
   "execution_count": 6,
   "metadata": {},
   "outputs": [
    {
     "name": "stdout",
     "output_type": "stream",
     "text": [
      "[2019/11/28 23:39:32] INFO - excel_n225mini.py#read_all_sheet:16: read_all_sheet() start. N225mini,../crawler/n225/225mini2010d.xlsx\r\n",
      "[2019/11/28 23:39:32] INFO - excel_n225mini.py#read_sheet:56: read_sheet() start. N225mini,../crawler/n225/225mini2010d.xlsx,0,1m\r\n",
      "[2019/11/28 23:39:32] ERROR - excel_n225mini.py#<module>:111: [Errno 2] No such file or directory: '../crawler/n225/225mini2010d.xlsx'\r\n"
     ]
    }
   ],
   "source": [
    "!python3 ../crawler/excel_n225mini.py --file ../crawler/n225/225mini2010d.xlsx"
   ]
  },
  {
   "cell_type": "code",
   "execution_count": 7,
   "metadata": {},
   "outputs": [
    {
     "name": "stdout",
     "output_type": "stream",
     "text": [
      "[2019/11/28 23:39:33] INFO - excel_n225mini.py#read_all_sheet:16: read_all_sheet() start. N225mini,../crawler/n225/225mini2011d.xlsx\r\n",
      "[2019/11/28 23:39:33] INFO - excel_n225mini.py#read_sheet:56: read_sheet() start. N225mini,../crawler/n225/225mini2011d.xlsx,0,1m\r\n",
      "[2019/11/28 23:39:33] ERROR - excel_n225mini.py#<module>:111: [Errno 2] No such file or directory: '../crawler/n225/225mini2011d.xlsx'\r\n"
     ]
    }
   ],
   "source": [
    "!python3 ../crawler/excel_n225mini.py --file ../crawler/n225/225mini2011d.xlsx"
   ]
  },
  {
   "cell_type": "code",
   "execution_count": 8,
   "metadata": {},
   "outputs": [
    {
     "name": "stdout",
     "output_type": "stream",
     "text": [
      "[2019/11/28 23:39:35] INFO - excel_n225mini.py#read_all_sheet:16: read_all_sheet() start. N225mini,../crawler/n225/N225minif_2012.xlsx\n",
      "[2019/11/28 23:39:35] INFO - excel_n225mini.py#read_sheet:56: read_sheet() start. N225mini,../crawler/n225/N225minif_2012.xlsx,0,1m\n",
      "[2019/11/28 23:39:35] ERROR - excel_n225mini.py#<module>:111: [Errno 2] No such file or directory: '../crawler/n225/N225minif_2012.xlsx'\n"
     ]
    }
   ],
   "source": [
    "!python3 ../crawler/excel_n225mini.py --file ../crawler/n225/N225minif_2012.xlsx"
   ]
  },
  {
   "cell_type": "code",
   "execution_count": 9,
   "metadata": {},
   "outputs": [
    {
     "name": "stdout",
     "output_type": "stream",
     "text": [
      "[2019/11/28 23:39:36] INFO - excel_n225mini.py#read_all_sheet:16: read_all_sheet() start. N225mini,../crawler/n225/N225minif_2013.xlsx\r\n",
      "[2019/11/28 23:39:36] INFO - excel_n225mini.py#read_sheet:56: read_sheet() start. N225mini,../crawler/n225/N225minif_2013.xlsx,0,1m\r\n",
      "[2019/11/28 23:39:36] ERROR - excel_n225mini.py#<module>:111: [Errno 2] No such file or directory: '../crawler/n225/N225minif_2013.xlsx'\r\n"
     ]
    }
   ],
   "source": [
    "!python3 ../crawler/excel_n225mini.py --file ../crawler/n225/N225minif_2013.xlsx"
   ]
  },
  {
   "cell_type": "code",
   "execution_count": 10,
   "metadata": {},
   "outputs": [
    {
     "name": "stdout",
     "output_type": "stream",
     "text": [
      "[2019/11/28 23:39:37] INFO - excel_n225mini.py#read_all_sheet:16: read_all_sheet() start. N225mini,../crawler/n225/N225minif_2014.xlsx\n",
      "[2019/11/28 23:39:37] INFO - excel_n225mini.py#read_sheet:56: read_sheet() start. N225mini,../crawler/n225/N225minif_2014.xlsx,0,1m\n",
      "[2019/11/28 23:39:37] ERROR - excel_n225mini.py#<module>:111: [Errno 2] No such file or directory: '../crawler/n225/N225minif_2014.xlsx'\n"
     ]
    }
   ],
   "source": [
    "!python3 ../crawler/excel_n225mini.py --file ../crawler/n225/N225minif_2014.xlsx"
   ]
  },
  {
   "cell_type": "code",
   "execution_count": null,
   "metadata": {},
   "outputs": [
    {
     "name": "stdout",
     "output_type": "stream",
     "text": [
      "[2019/11/28 23:39:38] INFO - excel_n225mini.py#read_all_sheet:16: read_all_sheet() start. N225mini,../crawler/n225/N225minif_2015.xlsx\n",
      "[2019/11/28 23:39:38] INFO - excel_n225mini.py#read_sheet:56: read_sheet() start. N225mini,../crawler/n225/N225minif_2015.xlsx,0,1m\n",
      "[2019/11/28 23:39:38] ERROR - excel_n225mini.py#<module>:111: [Errno 2] No such file or directory: '../crawler/n225/N225minif_2015.xlsx'\n"
     ]
    }
   ],
   "source": [
    "!python3 ../crawler/excel_n225mini.py --file ../crawler/n225/N225minif_2015.xlsx"
   ]
  },
  {
   "cell_type": "code",
   "execution_count": null,
   "metadata": {},
   "outputs": [
    {
     "name": "stdout",
     "output_type": "stream",
     "text": [
      "[2019/11/28 23:39:40] INFO - excel_n225mini.py#read_all_sheet:16: read_all_sheet() start. N225mini,../crawler/n225/N225minif_2016.xlsx\n",
      "[2019/11/28 23:39:40] INFO - excel_n225mini.py#read_sheet:56: read_sheet() start. N225mini,../crawler/n225/N225minif_2016.xlsx,0,1m\n",
      "[2019/11/28 23:42:27] INFO - excel_n225mini.py#read_sheet:92: read_sheet() finish. N225mini,1m,267539,2016-01-03 16:30:00,2017-01-06 05:30:00\n",
      "[2019/11/28 23:42:27] INFO - dbaccess.py#insert_ohlcv:66: insert_ohlcv() start. 267539\n",
      "[2019/11/28 23:44:52] INFO - dbaccess.py#insert_ohlcv:84: insert_ohlcv() complete. 267539\n",
      "[2019/11/28 23:44:52] INFO - excel_n225mini.py#read_sheet:56: read_sheet() start. N225mini,../crawler/n225/N225minif_2016.xlsx,1,3m\n",
      "[2019/11/28 23:46:35] INFO - excel_n225mini.py#read_sheet:92: read_sheet() finish. N225mini,3m,89509,2016-01-03 16:30:00,2017-01-06 05:30:00\n",
      "[2019/11/28 23:46:35] INFO - dbaccess.py#insert_ohlcv:66: insert_ohlcv() start. 89509\n",
      "[2019/11/28 23:47:32] INFO - dbaccess.py#insert_ohlcv:84: insert_ohlcv() complete. 89509\n",
      "[2019/11/28 23:47:32] INFO - excel_n225mini.py#read_sheet:56: read_sheet() start. N225mini,../crawler/n225/N225minif_2016.xlsx,2,5m\n",
      "[2019/11/28 23:49:03] INFO - excel_n225mini.py#read_sheet:92: read_sheet() finish. N225mini,5m,53903,2016-01-03 16:30:00,2017-01-06 05:30:00\n",
      "[2019/11/28 23:49:03] INFO - dbaccess.py#insert_ohlcv:66: insert_ohlcv() start. 53903\n",
      "[2019/11/28 23:49:37] INFO - dbaccess.py#insert_ohlcv:84: insert_ohlcv() complete. 53903\n",
      "[2019/11/28 23:49:37] INFO - excel_n225mini.py#read_sheet:56: read_sheet() start. N225mini,../crawler/n225/N225minif_2016.xlsx,3,10m\n",
      "[2019/11/28 23:50:58] INFO - excel_n225mini.py#read_sheet:92: read_sheet() finish. N225mini,10m,27132,2016-01-03 16:30:00,2017-01-06 05:30:00\n",
      "[2019/11/28 23:50:58] INFO - dbaccess.py#insert_ohlcv:66: insert_ohlcv() start. 27132\n",
      "[2019/11/28 23:51:15] INFO - dbaccess.py#insert_ohlcv:84: insert_ohlcv() complete. 27132\n",
      "[2019/11/28 23:51:15] INFO - excel_n225mini.py#read_sheet:56: read_sheet() start. N225mini,../crawler/n225/N225minif_2016.xlsx,4,15m\n"
     ]
    }
   ],
   "source": [
    "!python3 ../crawler/excel_n225mini.py --file ../crawler/n225/N225minif_2016.xlsx"
   ]
  },
  {
   "cell_type": "code",
   "execution_count": null,
   "metadata": {},
   "outputs": [],
   "source": [
    "!python3 ../crawler/excel_n225mini.py --file ../crawler/n225/N225minif_2017.xlsx"
   ]
  },
  {
   "cell_type": "code",
   "execution_count": null,
   "metadata": {},
   "outputs": [],
   "source": [
    "!python3 ../crawler/excel_n225mini.py --file ../crawler/n225/N225minif_2018.xlsx"
   ]
  },
  {
   "cell_type": "code",
   "execution_count": null,
   "metadata": {},
   "outputs": [],
   "source": []
  },
  {
   "cell_type": "code",
   "execution_count": null,
   "metadata": {},
   "outputs": [],
   "source": []
  },
  {
   "cell_type": "code",
   "execution_count": null,
   "metadata": {},
   "outputs": [],
   "source": []
  }
 ],
 "metadata": {
  "kernelspec": {
   "display_name": "Python 3",
   "language": "python",
   "name": "python3"
  },
  "language_info": {
   "codemirror_mode": {
    "name": "ipython",
    "version": 3
   },
   "file_extension": ".py",
   "mimetype": "text/x-python",
   "name": "python",
   "nbconvert_exporter": "python",
   "pygments_lexer": "ipython3",
   "version": "3.6.9"
  }
 },
 "nbformat": 4,
 "nbformat_minor": 2
}
